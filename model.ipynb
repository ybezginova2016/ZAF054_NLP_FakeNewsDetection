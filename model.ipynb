{
  "cells": [
    {
      "cell_type": "code",
      "execution_count": null,
      "metadata": {
        "id": "rhX86_NRXGeK"
      },
      "outputs": [],
      "source": [
        "import numpy as np       \n",
        "import pandas as pd       \n",
        "import matplotlib.pyplot as plt   # for data visualisation\n",
        "import itertools\n",
        "import re   # for string operations\n",
        "\n",
        "# machine learning models\n",
        "from sklearn.linear_model import LogisticRegression\n",
        "from sklearn.ensemble import RandomForestClassifier\n",
        "# hyperparameter tuning \n",
        "from sklearn.model_selection import GridSearchCV,RandomizedSearchCV\n",
        "from sklearn.model_selection import train_test_split    # train test split\n",
        "# evaluation metrics\n",
        "from sklearn.metrics import classification_report, accuracy_score, roc_curve, auc, confusion_matrix\n",
        "# transforming text into numerical format\n",
        "from sklearn.feature_extraction.text import TfidfVectorizer\n",
        "\n",
        "import warnings\n",
        "warnings.filterwarnings('ignore')"
      ]
    },
    {
      "cell_type": "code",
      "execution_count": null,
      "metadata": {
        "colab": {
          "base_uri": "https://localhost:8080/"
        },
        "id": "JGa1xnogYnSc",
        "outputId": "18f47e23-8408-4db8-9d7c-240adbd9ddd0"
      },
      "outputs": [
        {
          "name": "stdout",
          "output_type": "stream",
          "text": [
            "Drive already mounted at /content/drive; to attempt to forcibly remount, call drive.mount(\"/content/drive\", force_remount=True).\n"
          ]
        }
      ],
      "source": [
        "from google.colab import drive\n",
        "drive.mount('/content/drive')\n"
      ]
    },
    {
      "cell_type": "code",
      "execution_count": null,
      "metadata": {
        "colab": {
          "base_uri": "https://localhost:8080/",
          "height": 337
        },
        "id": "r1XZx9AVYuaF",
        "outputId": "31220df6-ca37-46bb-91dc-d2eb52b4bfbe"
      },
      "outputs": [
        {
          "data": {
            "text/html": [
              "\n",
              "  <div id=\"df-bdff36f0-9728-436a-a62f-701274ac2991\">\n",
              "    <div class=\"colab-df-container\">\n",
              "      <div>\n",
              "<style scoped>\n",
              "    .dataframe tbody tr th:only-of-type {\n",
              "        vertical-align: middle;\n",
              "    }\n",
              "\n",
              "    .dataframe tbody tr th {\n",
              "        vertical-align: top;\n",
              "    }\n",
              "\n",
              "    .dataframe thead th {\n",
              "        text-align: right;\n",
              "    }\n",
              "</style>\n",
              "<table border=\"1\" class=\"dataframe\">\n",
              "  <thead>\n",
              "    <tr style=\"text-align: right;\">\n",
              "      <th></th>\n",
              "      <th>id</th>\n",
              "      <th>title</th>\n",
              "      <th>author</th>\n",
              "      <th>text</th>\n",
              "      <th>label</th>\n",
              "    </tr>\n",
              "  </thead>\n",
              "  <tbody>\n",
              "    <tr>\n",
              "      <th>0</th>\n",
              "      <td>0</td>\n",
              "      <td>House Dem Aide: We Didn’t Even See Comey’s Let...</td>\n",
              "      <td>Darrell Lucus</td>\n",
              "      <td>House Dem Aide: We Didn’t Even See Comey’s Let...</td>\n",
              "      <td>1</td>\n",
              "    </tr>\n",
              "    <tr>\n",
              "      <th>1</th>\n",
              "      <td>1</td>\n",
              "      <td>FLYNN: Hillary Clinton, Big Woman on Campus - ...</td>\n",
              "      <td>Daniel J. Flynn</td>\n",
              "      <td>Ever get the feeling your life circles the rou...</td>\n",
              "      <td>0</td>\n",
              "    </tr>\n",
              "    <tr>\n",
              "      <th>2</th>\n",
              "      <td>2</td>\n",
              "      <td>Why the Truth Might Get You Fired</td>\n",
              "      <td>Consortiumnews.com</td>\n",
              "      <td>Why the Truth Might Get You Fired October 29, ...</td>\n",
              "      <td>1</td>\n",
              "    </tr>\n",
              "    <tr>\n",
              "      <th>3</th>\n",
              "      <td>3</td>\n",
              "      <td>15 Civilians Killed In Single US Airstrike Hav...</td>\n",
              "      <td>Jessica Purkiss</td>\n",
              "      <td>Videos 15 Civilians Killed In Single US Airstr...</td>\n",
              "      <td>1</td>\n",
              "    </tr>\n",
              "    <tr>\n",
              "      <th>4</th>\n",
              "      <td>4</td>\n",
              "      <td>Iranian woman jailed for fictional unpublished...</td>\n",
              "      <td>Howard Portnoy</td>\n",
              "      <td>Print \\nAn Iranian woman has been sentenced to...</td>\n",
              "      <td>1</td>\n",
              "    </tr>\n",
              "  </tbody>\n",
              "</table>\n",
              "</div>\n",
              "      <button class=\"colab-df-convert\" onclick=\"convertToInteractive('df-bdff36f0-9728-436a-a62f-701274ac2991')\"\n",
              "              title=\"Convert this dataframe to an interactive table.\"\n",
              "              style=\"display:none;\">\n",
              "        \n",
              "  <svg xmlns=\"http://www.w3.org/2000/svg\" height=\"24px\"viewBox=\"0 0 24 24\"\n",
              "       width=\"24px\">\n",
              "    <path d=\"M0 0h24v24H0V0z\" fill=\"none\"/>\n",
              "    <path d=\"M18.56 5.44l.94 2.06.94-2.06 2.06-.94-2.06-.94-.94-2.06-.94 2.06-2.06.94zm-11 1L8.5 8.5l.94-2.06 2.06-.94-2.06-.94L8.5 2.5l-.94 2.06-2.06.94zm10 10l.94 2.06.94-2.06 2.06-.94-2.06-.94-.94-2.06-.94 2.06-2.06.94z\"/><path d=\"M17.41 7.96l-1.37-1.37c-.4-.4-.92-.59-1.43-.59-.52 0-1.04.2-1.43.59L10.3 9.45l-7.72 7.72c-.78.78-.78 2.05 0 2.83L4 21.41c.39.39.9.59 1.41.59.51 0 1.02-.2 1.41-.59l7.78-7.78 2.81-2.81c.8-.78.8-2.07 0-2.86zM5.41 20L4 18.59l7.72-7.72 1.47 1.35L5.41 20z\"/>\n",
              "  </svg>\n",
              "      </button>\n",
              "      \n",
              "  <style>\n",
              "    .colab-df-container {\n",
              "      display:flex;\n",
              "      flex-wrap:wrap;\n",
              "      gap: 12px;\n",
              "    }\n",
              "\n",
              "    .colab-df-convert {\n",
              "      background-color: #E8F0FE;\n",
              "      border: none;\n",
              "      border-radius: 50%;\n",
              "      cursor: pointer;\n",
              "      display: none;\n",
              "      fill: #1967D2;\n",
              "      height: 32px;\n",
              "      padding: 0 0 0 0;\n",
              "      width: 32px;\n",
              "    }\n",
              "\n",
              "    .colab-df-convert:hover {\n",
              "      background-color: #E2EBFA;\n",
              "      box-shadow: 0px 1px 2px rgba(60, 64, 67, 0.3), 0px 1px 3px 1px rgba(60, 64, 67, 0.15);\n",
              "      fill: #174EA6;\n",
              "    }\n",
              "\n",
              "    [theme=dark] .colab-df-convert {\n",
              "      background-color: #3B4455;\n",
              "      fill: #D2E3FC;\n",
              "    }\n",
              "\n",
              "    [theme=dark] .colab-df-convert:hover {\n",
              "      background-color: #434B5C;\n",
              "      box-shadow: 0px 1px 3px 1px rgba(0, 0, 0, 0.15);\n",
              "      filter: drop-shadow(0px 1px 2px rgba(0, 0, 0, 0.3));\n",
              "      fill: #FFFFFF;\n",
              "    }\n",
              "  </style>\n",
              "\n",
              "      <script>\n",
              "        const buttonEl =\n",
              "          document.querySelector('#df-bdff36f0-9728-436a-a62f-701274ac2991 button.colab-df-convert');\n",
              "        buttonEl.style.display =\n",
              "          google.colab.kernel.accessAllowed ? 'block' : 'none';\n",
              "\n",
              "        async function convertToInteractive(key) {\n",
              "          const element = document.querySelector('#df-bdff36f0-9728-436a-a62f-701274ac2991');\n",
              "          const dataTable =\n",
              "            await google.colab.kernel.invokeFunction('convertToInteractive',\n",
              "                                                     [key], {});\n",
              "          if (!dataTable) return;\n",
              "\n",
              "          const docLinkHtml = 'Like what you see? Visit the ' +\n",
              "            '<a target=\"_blank\" href=https://colab.research.google.com/notebooks/data_table.ipynb>data table notebook</a>'\n",
              "            + ' to learn more about interactive tables.';\n",
              "          element.innerHTML = '';\n",
              "          dataTable['output_type'] = 'display_data';\n",
              "          await google.colab.output.renderOutput(dataTable, element);\n",
              "          const docLink = document.createElement('div');\n",
              "          docLink.innerHTML = docLinkHtml;\n",
              "          element.appendChild(docLink);\n",
              "        }\n",
              "      </script>\n",
              "    </div>\n",
              "  </div>\n",
              "  "
            ],
            "text/plain": [
              "   id                                              title              author  \\\n",
              "0   0  House Dem Aide: We Didn’t Even See Comey’s Let...       Darrell Lucus   \n",
              "1   1  FLYNN: Hillary Clinton, Big Woman on Campus - ...     Daniel J. Flynn   \n",
              "2   2                  Why the Truth Might Get You Fired  Consortiumnews.com   \n",
              "3   3  15 Civilians Killed In Single US Airstrike Hav...     Jessica Purkiss   \n",
              "4   4  Iranian woman jailed for fictional unpublished...      Howard Portnoy   \n",
              "\n",
              "                                                text  label  \n",
              "0  House Dem Aide: We Didn’t Even See Comey’s Let...      1  \n",
              "1  Ever get the feeling your life circles the rou...      0  \n",
              "2  Why the Truth Might Get You Fired October 29, ...      1  \n",
              "3  Videos 15 Civilians Killed In Single US Airstr...      1  \n",
              "4  Print \\nAn Iranian woman has been sentenced to...      1  "
            ]
          },
          "execution_count": 3,
          "metadata": {},
          "output_type": "execute_result"
        }
      ],
      "source": [
        "df1 = pd.read_csv(\"/content/drive/MyDrive/train.csv\")\n",
        "df1.head()"
      ]
    },
    {
      "cell_type": "code",
      "execution_count": null,
      "metadata": {
        "id": "OtzGWA4VK0bz"
      },
      "outputs": [],
      "source": [
        "train1, test1 = train_test_split(df1, test_size=0.2, stratify=df1.label)\n"
      ]
    },
    {
      "cell_type": "code",
      "execution_count": null,
      "metadata": {
        "colab": {
          "base_uri": "https://localhost:8080/",
          "height": 354
        },
        "id": "vfB5JduJMohD",
        "outputId": "702939b1-1797-46fb-facd-e826c60bb408"
      },
      "outputs": [
        {
          "data": {
            "text/html": [
              "\n",
              "  <div id=\"df-78227126-fb05-401f-a432-35bae3e65f49\">\n",
              "    <div class=\"colab-df-container\">\n",
              "      <div>\n",
              "<style scoped>\n",
              "    .dataframe tbody tr th:only-of-type {\n",
              "        vertical-align: middle;\n",
              "    }\n",
              "\n",
              "    .dataframe tbody tr th {\n",
              "        vertical-align: top;\n",
              "    }\n",
              "\n",
              "    .dataframe thead th {\n",
              "        text-align: right;\n",
              "    }\n",
              "</style>\n",
              "<table border=\"1\" class=\"dataframe\">\n",
              "  <thead>\n",
              "    <tr style=\"text-align: right;\">\n",
              "      <th></th>\n",
              "      <th>Unnamed: 0</th>\n",
              "      <th>title</th>\n",
              "      <th>text</th>\n",
              "      <th>label</th>\n",
              "    </tr>\n",
              "  </thead>\n",
              "  <tbody>\n",
              "    <tr>\n",
              "      <th>0</th>\n",
              "      <td>8476</td>\n",
              "      <td>You Can Smell Hillary’s Fear</td>\n",
              "      <td>Daniel Greenfield, a Shillman Journalism Fello...</td>\n",
              "      <td>FAKE</td>\n",
              "    </tr>\n",
              "    <tr>\n",
              "      <th>1</th>\n",
              "      <td>10294</td>\n",
              "      <td>Watch The Exact Moment Paul Ryan Committed Pol...</td>\n",
              "      <td>Google Pinterest Digg Linkedin Reddit Stumbleu...</td>\n",
              "      <td>FAKE</td>\n",
              "    </tr>\n",
              "    <tr>\n",
              "      <th>2</th>\n",
              "      <td>3608</td>\n",
              "      <td>Kerry to go to Paris in gesture of sympathy</td>\n",
              "      <td>U.S. Secretary of State John F. Kerry said Mon...</td>\n",
              "      <td>REAL</td>\n",
              "    </tr>\n",
              "    <tr>\n",
              "      <th>3</th>\n",
              "      <td>10142</td>\n",
              "      <td>Bernie supporters on Twitter erupt in anger ag...</td>\n",
              "      <td>— Kaydee King (@KaydeeKing) November 9, 2016 T...</td>\n",
              "      <td>FAKE</td>\n",
              "    </tr>\n",
              "    <tr>\n",
              "      <th>4</th>\n",
              "      <td>875</td>\n",
              "      <td>The Battle of New York: Why This Primary Matters</td>\n",
              "      <td>It's primary day in New York and front-runners...</td>\n",
              "      <td>REAL</td>\n",
              "    </tr>\n",
              "  </tbody>\n",
              "</table>\n",
              "</div>\n",
              "      <button class=\"colab-df-convert\" onclick=\"convertToInteractive('df-78227126-fb05-401f-a432-35bae3e65f49')\"\n",
              "              title=\"Convert this dataframe to an interactive table.\"\n",
              "              style=\"display:none;\">\n",
              "        \n",
              "  <svg xmlns=\"http://www.w3.org/2000/svg\" height=\"24px\"viewBox=\"0 0 24 24\"\n",
              "       width=\"24px\">\n",
              "    <path d=\"M0 0h24v24H0V0z\" fill=\"none\"/>\n",
              "    <path d=\"M18.56 5.44l.94 2.06.94-2.06 2.06-.94-2.06-.94-.94-2.06-.94 2.06-2.06.94zm-11 1L8.5 8.5l.94-2.06 2.06-.94-2.06-.94L8.5 2.5l-.94 2.06-2.06.94zm10 10l.94 2.06.94-2.06 2.06-.94-2.06-.94-.94-2.06-.94 2.06-2.06.94z\"/><path d=\"M17.41 7.96l-1.37-1.37c-.4-.4-.92-.59-1.43-.59-.52 0-1.04.2-1.43.59L10.3 9.45l-7.72 7.72c-.78.78-.78 2.05 0 2.83L4 21.41c.39.39.9.59 1.41.59.51 0 1.02-.2 1.41-.59l7.78-7.78 2.81-2.81c.8-.78.8-2.07 0-2.86zM5.41 20L4 18.59l7.72-7.72 1.47 1.35L5.41 20z\"/>\n",
              "  </svg>\n",
              "      </button>\n",
              "      \n",
              "  <style>\n",
              "    .colab-df-container {\n",
              "      display:flex;\n",
              "      flex-wrap:wrap;\n",
              "      gap: 12px;\n",
              "    }\n",
              "\n",
              "    .colab-df-convert {\n",
              "      background-color: #E8F0FE;\n",
              "      border: none;\n",
              "      border-radius: 50%;\n",
              "      cursor: pointer;\n",
              "      display: none;\n",
              "      fill: #1967D2;\n",
              "      height: 32px;\n",
              "      padding: 0 0 0 0;\n",
              "      width: 32px;\n",
              "    }\n",
              "\n",
              "    .colab-df-convert:hover {\n",
              "      background-color: #E2EBFA;\n",
              "      box-shadow: 0px 1px 2px rgba(60, 64, 67, 0.3), 0px 1px 3px 1px rgba(60, 64, 67, 0.15);\n",
              "      fill: #174EA6;\n",
              "    }\n",
              "\n",
              "    [theme=dark] .colab-df-convert {\n",
              "      background-color: #3B4455;\n",
              "      fill: #D2E3FC;\n",
              "    }\n",
              "\n",
              "    [theme=dark] .colab-df-convert:hover {\n",
              "      background-color: #434B5C;\n",
              "      box-shadow: 0px 1px 3px 1px rgba(0, 0, 0, 0.15);\n",
              "      filter: drop-shadow(0px 1px 2px rgba(0, 0, 0, 0.3));\n",
              "      fill: #FFFFFF;\n",
              "    }\n",
              "  </style>\n",
              "\n",
              "      <script>\n",
              "        const buttonEl =\n",
              "          document.querySelector('#df-78227126-fb05-401f-a432-35bae3e65f49 button.colab-df-convert');\n",
              "        buttonEl.style.display =\n",
              "          google.colab.kernel.accessAllowed ? 'block' : 'none';\n",
              "\n",
              "        async function convertToInteractive(key) {\n",
              "          const element = document.querySelector('#df-78227126-fb05-401f-a432-35bae3e65f49');\n",
              "          const dataTable =\n",
              "            await google.colab.kernel.invokeFunction('convertToInteractive',\n",
              "                                                     [key], {});\n",
              "          if (!dataTable) return;\n",
              "\n",
              "          const docLinkHtml = 'Like what you see? Visit the ' +\n",
              "            '<a target=\"_blank\" href=https://colab.research.google.com/notebooks/data_table.ipynb>data table notebook</a>'\n",
              "            + ' to learn more about interactive tables.';\n",
              "          element.innerHTML = '';\n",
              "          dataTable['output_type'] = 'display_data';\n",
              "          await google.colab.output.renderOutput(dataTable, element);\n",
              "          const docLink = document.createElement('div');\n",
              "          docLink.innerHTML = docLinkHtml;\n",
              "          element.appendChild(docLink);\n",
              "        }\n",
              "      </script>\n",
              "    </div>\n",
              "  </div>\n",
              "  "
            ],
            "text/plain": [
              "   Unnamed: 0                                              title  \\\n",
              "0        8476                       You Can Smell Hillary’s Fear   \n",
              "1       10294  Watch The Exact Moment Paul Ryan Committed Pol...   \n",
              "2        3608        Kerry to go to Paris in gesture of sympathy   \n",
              "3       10142  Bernie supporters on Twitter erupt in anger ag...   \n",
              "4         875   The Battle of New York: Why This Primary Matters   \n",
              "\n",
              "                                                text label  \n",
              "0  Daniel Greenfield, a Shillman Journalism Fello...  FAKE  \n",
              "1  Google Pinterest Digg Linkedin Reddit Stumbleu...  FAKE  \n",
              "2  U.S. Secretary of State John F. Kerry said Mon...  REAL  \n",
              "3  — Kaydee King (@KaydeeKing) November 9, 2016 T...  FAKE  \n",
              "4  It's primary day in New York and front-runners...  REAL  "
            ]
          },
          "execution_count": 5,
          "metadata": {},
          "output_type": "execute_result"
        }
      ],
      "source": [
        "df2 = pd.read_csv(\"/content/drive/MyDrive/news.csv\")\n",
        "df2.head()"
      ]
    },
    {
      "cell_type": "code",
      "execution_count": null,
      "metadata": {
        "id": "wBUN0SZZNHrz"
      },
      "outputs": [],
      "source": [
        "# encoding the target variable into numerical format\n",
        "encoder = {'label': {'FAKE':1, 'REAL':0}}\n",
        "df2 = df2.replace(encoder)"
      ]
    },
    {
      "cell_type": "code",
      "execution_count": null,
      "metadata": {
        "id": "ADewlRt1NMRS"
      },
      "outputs": [],
      "source": [
        "train2, test2 = train_test_split(df2, test_size=0.2, stratify=df2.label)"
      ]
    },
    {
      "cell_type": "code",
      "execution_count": null,
      "metadata": {
        "colab": {
          "base_uri": "https://localhost:8080/",
          "height": 441
        },
        "id": "KugNTXH8NN3S",
        "outputId": "ce37752f-d01f-45ee-f1ea-4d3b623d32ab"
      },
      "outputs": [
        {
          "data": {
            "text/html": [
              "\n",
              "  <div id=\"df-d261646f-384b-464c-a2c4-7ab0a3f8b46b\">\n",
              "    <div class=\"colab-df-container\">\n",
              "      <div>\n",
              "<style scoped>\n",
              "    .dataframe tbody tr th:only-of-type {\n",
              "        vertical-align: middle;\n",
              "    }\n",
              "\n",
              "    .dataframe tbody tr th {\n",
              "        vertical-align: top;\n",
              "    }\n",
              "\n",
              "    .dataframe thead th {\n",
              "        text-align: right;\n",
              "    }\n",
              "</style>\n",
              "<table border=\"1\" class=\"dataframe\">\n",
              "  <thead>\n",
              "    <tr style=\"text-align: right;\">\n",
              "      <th></th>\n",
              "      <th>unit_id</th>\n",
              "      <th>title</th>\n",
              "      <th>text</th>\n",
              "      <th>source</th>\n",
              "      <th>date</th>\n",
              "      <th>location</th>\n",
              "      <th>labels</th>\n",
              "    </tr>\n",
              "  </thead>\n",
              "  <tbody>\n",
              "    <tr>\n",
              "      <th>0</th>\n",
              "      <td>1914947530</td>\n",
              "      <td>Syria attack symptoms consistent with nerve ag...</td>\n",
              "      <td>Wed 05 Apr 2017 Syria attack symptoms consiste...</td>\n",
              "      <td>nna</td>\n",
              "      <td>4/5/2017</td>\n",
              "      <td>idlib</td>\n",
              "      <td>0</td>\n",
              "    </tr>\n",
              "    <tr>\n",
              "      <th>1</th>\n",
              "      <td>1914947532</td>\n",
              "      <td>Homs governor says U.S. attack caused deaths b...</td>\n",
              "      <td>Fri 07 Apr 2017 at 0914 Homs governor says U.S...</td>\n",
              "      <td>nna</td>\n",
              "      <td>4/7/2017</td>\n",
              "      <td>homs</td>\n",
              "      <td>0</td>\n",
              "    </tr>\n",
              "    <tr>\n",
              "      <th>2</th>\n",
              "      <td>1914947533</td>\n",
              "      <td>Death toll from Aleppo bomb attack at least 112</td>\n",
              "      <td>Sun 16 Apr 2017 Death toll from Aleppo bomb at...</td>\n",
              "      <td>nna</td>\n",
              "      <td>4/16/2017</td>\n",
              "      <td>aleppo</td>\n",
              "      <td>0</td>\n",
              "    </tr>\n",
              "    <tr>\n",
              "      <th>3</th>\n",
              "      <td>1914947534</td>\n",
              "      <td>Aleppo bomb blast kills six Syrian state TV</td>\n",
              "      <td>Wed 19 Apr 2017 Aleppo bomb blast kills six Sy...</td>\n",
              "      <td>nna</td>\n",
              "      <td>4/19/2017</td>\n",
              "      <td>aleppo</td>\n",
              "      <td>0</td>\n",
              "    </tr>\n",
              "    <tr>\n",
              "      <th>4</th>\n",
              "      <td>1914947535</td>\n",
              "      <td>29 Syria Rebels Dead in Fighting for Key Alepp...</td>\n",
              "      <td>Sun 10 Jul 2016 29 Syria Rebels Dead in Fighti...</td>\n",
              "      <td>nna</td>\n",
              "      <td>7/10/2016</td>\n",
              "      <td>aleppo</td>\n",
              "      <td>0</td>\n",
              "    </tr>\n",
              "  </tbody>\n",
              "</table>\n",
              "</div>\n",
              "      <button class=\"colab-df-convert\" onclick=\"convertToInteractive('df-d261646f-384b-464c-a2c4-7ab0a3f8b46b')\"\n",
              "              title=\"Convert this dataframe to an interactive table.\"\n",
              "              style=\"display:none;\">\n",
              "        \n",
              "  <svg xmlns=\"http://www.w3.org/2000/svg\" height=\"24px\"viewBox=\"0 0 24 24\"\n",
              "       width=\"24px\">\n",
              "    <path d=\"M0 0h24v24H0V0z\" fill=\"none\"/>\n",
              "    <path d=\"M18.56 5.44l.94 2.06.94-2.06 2.06-.94-2.06-.94-.94-2.06-.94 2.06-2.06.94zm-11 1L8.5 8.5l.94-2.06 2.06-.94-2.06-.94L8.5 2.5l-.94 2.06-2.06.94zm10 10l.94 2.06.94-2.06 2.06-.94-2.06-.94-.94-2.06-.94 2.06-2.06.94z\"/><path d=\"M17.41 7.96l-1.37-1.37c-.4-.4-.92-.59-1.43-.59-.52 0-1.04.2-1.43.59L10.3 9.45l-7.72 7.72c-.78.78-.78 2.05 0 2.83L4 21.41c.39.39.9.59 1.41.59.51 0 1.02-.2 1.41-.59l7.78-7.78 2.81-2.81c.8-.78.8-2.07 0-2.86zM5.41 20L4 18.59l7.72-7.72 1.47 1.35L5.41 20z\"/>\n",
              "  </svg>\n",
              "      </button>\n",
              "      \n",
              "  <style>\n",
              "    .colab-df-container {\n",
              "      display:flex;\n",
              "      flex-wrap:wrap;\n",
              "      gap: 12px;\n",
              "    }\n",
              "\n",
              "    .colab-df-convert {\n",
              "      background-color: #E8F0FE;\n",
              "      border: none;\n",
              "      border-radius: 50%;\n",
              "      cursor: pointer;\n",
              "      display: none;\n",
              "      fill: #1967D2;\n",
              "      height: 32px;\n",
              "      padding: 0 0 0 0;\n",
              "      width: 32px;\n",
              "    }\n",
              "\n",
              "    .colab-df-convert:hover {\n",
              "      background-color: #E2EBFA;\n",
              "      box-shadow: 0px 1px 2px rgba(60, 64, 67, 0.3), 0px 1px 3px 1px rgba(60, 64, 67, 0.15);\n",
              "      fill: #174EA6;\n",
              "    }\n",
              "\n",
              "    [theme=dark] .colab-df-convert {\n",
              "      background-color: #3B4455;\n",
              "      fill: #D2E3FC;\n",
              "    }\n",
              "\n",
              "    [theme=dark] .colab-df-convert:hover {\n",
              "      background-color: #434B5C;\n",
              "      box-shadow: 0px 1px 3px 1px rgba(0, 0, 0, 0.15);\n",
              "      filter: drop-shadow(0px 1px 2px rgba(0, 0, 0, 0.3));\n",
              "      fill: #FFFFFF;\n",
              "    }\n",
              "  </style>\n",
              "\n",
              "      <script>\n",
              "        const buttonEl =\n",
              "          document.querySelector('#df-d261646f-384b-464c-a2c4-7ab0a3f8b46b button.colab-df-convert');\n",
              "        buttonEl.style.display =\n",
              "          google.colab.kernel.accessAllowed ? 'block' : 'none';\n",
              "\n",
              "        async function convertToInteractive(key) {\n",
              "          const element = document.querySelector('#df-d261646f-384b-464c-a2c4-7ab0a3f8b46b');\n",
              "          const dataTable =\n",
              "            await google.colab.kernel.invokeFunction('convertToInteractive',\n",
              "                                                     [key], {});\n",
              "          if (!dataTable) return;\n",
              "\n",
              "          const docLinkHtml = 'Like what you see? Visit the ' +\n",
              "            '<a target=\"_blank\" href=https://colab.research.google.com/notebooks/data_table.ipynb>data table notebook</a>'\n",
              "            + ' to learn more about interactive tables.';\n",
              "          element.innerHTML = '';\n",
              "          dataTable['output_type'] = 'display_data';\n",
              "          await google.colab.output.renderOutput(dataTable, element);\n",
              "          const docLink = document.createElement('div');\n",
              "          docLink.innerHTML = docLinkHtml;\n",
              "          element.appendChild(docLink);\n",
              "        }\n",
              "      </script>\n",
              "    </div>\n",
              "  </div>\n",
              "  "
            ],
            "text/plain": [
              "      unit_id                                              title  \\\n",
              "0  1914947530  Syria attack symptoms consistent with nerve ag...   \n",
              "1  1914947532  Homs governor says U.S. attack caused deaths b...   \n",
              "2  1914947533    Death toll from Aleppo bomb attack at least 112   \n",
              "3  1914947534        Aleppo bomb blast kills six Syrian state TV   \n",
              "4  1914947535  29 Syria Rebels Dead in Fighting for Key Alepp...   \n",
              "\n",
              "                                                text source       date  \\\n",
              "0  Wed 05 Apr 2017 Syria attack symptoms consiste...    nna   4/5/2017   \n",
              "1  Fri 07 Apr 2017 at 0914 Homs governor says U.S...    nna   4/7/2017   \n",
              "2  Sun 16 Apr 2017 Death toll from Aleppo bomb at...    nna  4/16/2017   \n",
              "3  Wed 19 Apr 2017 Aleppo bomb blast kills six Sy...    nna  4/19/2017   \n",
              "4  Sun 10 Jul 2016 29 Syria Rebels Dead in Fighti...    nna  7/10/2016   \n",
              "\n",
              "  location  labels  \n",
              "0    idlib       0  \n",
              "1     homs       0  \n",
              "2   aleppo       0  \n",
              "3   aleppo       0  \n",
              "4   aleppo       0  "
            ]
          },
          "execution_count": 8,
          "metadata": {},
          "output_type": "execute_result"
        }
      ],
      "source": [
        "df3 = pd.read_csv('/content/drive/MyDrive/FA-KES-Dataset.csv',encoding='latin')\n",
        "df3.rename(columns={'article_title':'title', 'article_content':'text'}, inplace=True)\n",
        "df3.head() # 0 means FAKE news and 1 means TRUE news in this this dataset\n"
      ]
    },
    {
      "cell_type": "code",
      "execution_count": null,
      "metadata": {
        "id": "_kyuSrSENOBx"
      },
      "outputs": [],
      "source": [
        "# creating new target variable so that FAKE news are represented by 1 and TRUE news by 0\n",
        "df3['label'] = df3['labels'].apply(lambda x: 1 if x==0 else 0)"
      ]
    },
    {
      "cell_type": "code",
      "execution_count": null,
      "metadata": {
        "id": "60LoGC1KNOFN"
      },
      "outputs": [],
      "source": [
        "\n",
        "train3, test3 = train_test_split(df3, test_size=0.2, stratify=df3.label)"
      ]
    },
    {
      "cell_type": "code",
      "execution_count": null,
      "metadata": {
        "id": "jdyYxQ79NORv"
      },
      "outputs": [],
      "source": [
        "fake_news = pd.read_csv('/content/drive/MyDrive/Fake.csv')\n",
        "true_news = pd.read_csv('/content/drive/MyDrive/True.csv')"
      ]
    },
    {
      "cell_type": "code",
      "execution_count": null,
      "metadata": {
        "id": "LJPtCuS5NOVY"
      },
      "outputs": [],
      "source": [
        "# creating labels\n",
        "fake_news['label'] = 1\n",
        "true_news['label'] = 0\n",
        "\n",
        "# Mixing fake and true datasets\n",
        "df4 = pd.concat([true_news,fake_news])\n",
        "df4 = df4.sample(frac=1).reset_index(drop=True)\n",
        "     "
      ]
    },
    {
      "cell_type": "code",
      "execution_count": null,
      "metadata": {
        "colab": {
          "base_uri": "https://localhost:8080/",
          "height": 371
        },
        "id": "r6nSOh7LOFXJ",
        "outputId": "4f436568-8838-484f-e4df-1b1d95650e57"
      },
      "outputs": [
        {
          "data": {
            "text/html": [
              "\n",
              "  <div id=\"df-a54ec828-30e8-458d-918c-a79799f17467\">\n",
              "    <div class=\"colab-df-container\">\n",
              "      <div>\n",
              "<style scoped>\n",
              "    .dataframe tbody tr th:only-of-type {\n",
              "        vertical-align: middle;\n",
              "    }\n",
              "\n",
              "    .dataframe tbody tr th {\n",
              "        vertical-align: top;\n",
              "    }\n",
              "\n",
              "    .dataframe thead th {\n",
              "        text-align: right;\n",
              "    }\n",
              "</style>\n",
              "<table border=\"1\" class=\"dataframe\">\n",
              "  <thead>\n",
              "    <tr style=\"text-align: right;\">\n",
              "      <th></th>\n",
              "      <th>title</th>\n",
              "      <th>text</th>\n",
              "      <th>subject</th>\n",
              "      <th>date</th>\n",
              "      <th>label</th>\n",
              "    </tr>\n",
              "  </thead>\n",
              "  <tbody>\n",
              "    <tr>\n",
              "      <th>0</th>\n",
              "      <td>YIKES! Is Something Big About To Happen? Miche...</td>\n",
              "      <td>Michelle Obama has scrubbed any reference to H...</td>\n",
              "      <td>politics</td>\n",
              "      <td>Nov 1, 2016</td>\n",
              "      <td>1</td>\n",
              "    </tr>\n",
              "    <tr>\n",
              "      <th>1</th>\n",
              "      <td>Factbox - How Carlos Danger got tangled up in ...</td>\n",
              "      <td>NEW YORK (Reuters) - Anthony Weiner, the disgr...</td>\n",
              "      <td>politicsNews</td>\n",
              "      <td>October 29, 2016</td>\n",
              "      <td>0</td>\n",
              "    </tr>\n",
              "    <tr>\n",
              "      <th>2</th>\n",
              "      <td>Japan PM stresses importance of TPP trade pact...</td>\n",
              "      <td>NEW YORK (Reuters) - Japanese Prime Minister S...</td>\n",
              "      <td>politicsNews</td>\n",
              "      <td>September 20, 2016</td>\n",
              "      <td>0</td>\n",
              "    </tr>\n",
              "    <tr>\n",
              "      <th>3</th>\n",
              "      <td>OOPS! Secret Service Opens Investigation After...</td>\n",
              "      <td>A spokesman for the Secret Service told The Ga...</td>\n",
              "      <td>politics</td>\n",
              "      <td>Jan 21, 2017</td>\n",
              "      <td>1</td>\n",
              "    </tr>\n",
              "    <tr>\n",
              "      <th>4</th>\n",
              "      <td>PARTY CORRUPTION: Clinton Campaign Directly Ti...</td>\n",
              "      <td>21st Century Wire says A tidal wave of revelat...</td>\n",
              "      <td>US_News</td>\n",
              "      <td>October 31, 2016</td>\n",
              "      <td>1</td>\n",
              "    </tr>\n",
              "  </tbody>\n",
              "</table>\n",
              "</div>\n",
              "      <button class=\"colab-df-convert\" onclick=\"convertToInteractive('df-a54ec828-30e8-458d-918c-a79799f17467')\"\n",
              "              title=\"Convert this dataframe to an interactive table.\"\n",
              "              style=\"display:none;\">\n",
              "        \n",
              "  <svg xmlns=\"http://www.w3.org/2000/svg\" height=\"24px\"viewBox=\"0 0 24 24\"\n",
              "       width=\"24px\">\n",
              "    <path d=\"M0 0h24v24H0V0z\" fill=\"none\"/>\n",
              "    <path d=\"M18.56 5.44l.94 2.06.94-2.06 2.06-.94-2.06-.94-.94-2.06-.94 2.06-2.06.94zm-11 1L8.5 8.5l.94-2.06 2.06-.94-2.06-.94L8.5 2.5l-.94 2.06-2.06.94zm10 10l.94 2.06.94-2.06 2.06-.94-2.06-.94-.94-2.06-.94 2.06-2.06.94z\"/><path d=\"M17.41 7.96l-1.37-1.37c-.4-.4-.92-.59-1.43-.59-.52 0-1.04.2-1.43.59L10.3 9.45l-7.72 7.72c-.78.78-.78 2.05 0 2.83L4 21.41c.39.39.9.59 1.41.59.51 0 1.02-.2 1.41-.59l7.78-7.78 2.81-2.81c.8-.78.8-2.07 0-2.86zM5.41 20L4 18.59l7.72-7.72 1.47 1.35L5.41 20z\"/>\n",
              "  </svg>\n",
              "      </button>\n",
              "      \n",
              "  <style>\n",
              "    .colab-df-container {\n",
              "      display:flex;\n",
              "      flex-wrap:wrap;\n",
              "      gap: 12px;\n",
              "    }\n",
              "\n",
              "    .colab-df-convert {\n",
              "      background-color: #E8F0FE;\n",
              "      border: none;\n",
              "      border-radius: 50%;\n",
              "      cursor: pointer;\n",
              "      display: none;\n",
              "      fill: #1967D2;\n",
              "      height: 32px;\n",
              "      padding: 0 0 0 0;\n",
              "      width: 32px;\n",
              "    }\n",
              "\n",
              "    .colab-df-convert:hover {\n",
              "      background-color: #E2EBFA;\n",
              "      box-shadow: 0px 1px 2px rgba(60, 64, 67, 0.3), 0px 1px 3px 1px rgba(60, 64, 67, 0.15);\n",
              "      fill: #174EA6;\n",
              "    }\n",
              "\n",
              "    [theme=dark] .colab-df-convert {\n",
              "      background-color: #3B4455;\n",
              "      fill: #D2E3FC;\n",
              "    }\n",
              "\n",
              "    [theme=dark] .colab-df-convert:hover {\n",
              "      background-color: #434B5C;\n",
              "      box-shadow: 0px 1px 3px 1px rgba(0, 0, 0, 0.15);\n",
              "      filter: drop-shadow(0px 1px 2px rgba(0, 0, 0, 0.3));\n",
              "      fill: #FFFFFF;\n",
              "    }\n",
              "  </style>\n",
              "\n",
              "      <script>\n",
              "        const buttonEl =\n",
              "          document.querySelector('#df-a54ec828-30e8-458d-918c-a79799f17467 button.colab-df-convert');\n",
              "        buttonEl.style.display =\n",
              "          google.colab.kernel.accessAllowed ? 'block' : 'none';\n",
              "\n",
              "        async function convertToInteractive(key) {\n",
              "          const element = document.querySelector('#df-a54ec828-30e8-458d-918c-a79799f17467');\n",
              "          const dataTable =\n",
              "            await google.colab.kernel.invokeFunction('convertToInteractive',\n",
              "                                                     [key], {});\n",
              "          if (!dataTable) return;\n",
              "\n",
              "          const docLinkHtml = 'Like what you see? Visit the ' +\n",
              "            '<a target=\"_blank\" href=https://colab.research.google.com/notebooks/data_table.ipynb>data table notebook</a>'\n",
              "            + ' to learn more about interactive tables.';\n",
              "          element.innerHTML = '';\n",
              "          dataTable['output_type'] = 'display_data';\n",
              "          await google.colab.output.renderOutput(dataTable, element);\n",
              "          const docLink = document.createElement('div');\n",
              "          docLink.innerHTML = docLinkHtml;\n",
              "          element.appendChild(docLink);\n",
              "        }\n",
              "      </script>\n",
              "    </div>\n",
              "  </div>\n",
              "  "
            ],
            "text/plain": [
              "                                               title  \\\n",
              "0  YIKES! Is Something Big About To Happen? Miche...   \n",
              "1  Factbox - How Carlos Danger got tangled up in ...   \n",
              "2  Japan PM stresses importance of TPP trade pact...   \n",
              "3  OOPS! Secret Service Opens Investigation After...   \n",
              "4  PARTY CORRUPTION: Clinton Campaign Directly Ti...   \n",
              "\n",
              "                                                text       subject  \\\n",
              "0  Michelle Obama has scrubbed any reference to H...      politics   \n",
              "1  NEW YORK (Reuters) - Anthony Weiner, the disgr...  politicsNews   \n",
              "2  NEW YORK (Reuters) - Japanese Prime Minister S...  politicsNews   \n",
              "3  A spokesman for the Secret Service told The Ga...      politics   \n",
              "4  21st Century Wire says A tidal wave of revelat...       US_News   \n",
              "\n",
              "                  date  label  \n",
              "0          Nov 1, 2016      1  \n",
              "1    October 29, 2016       0  \n",
              "2  September 20, 2016       0  \n",
              "3         Jan 21, 2017      1  \n",
              "4     October 31, 2016      1  "
            ]
          },
          "execution_count": 13,
          "metadata": {},
          "output_type": "execute_result"
        }
      ],
      "source": [
        "\n",
        "df4.head()"
      ]
    },
    {
      "cell_type": "code",
      "execution_count": null,
      "metadata": {
        "id": "IWu0KtnLOFaS"
      },
      "outputs": [],
      "source": [
        "train4, test4 = train_test_split(df4, test_size=0.2, stratify=df4.label)"
      ]
    },
    {
      "cell_type": "markdown",
      "metadata": {
        "id": "spjG-ga8Oc3i"
      },
      "source": [
        "Mergeing all the train datasets"
      ]
    },
    {
      "cell_type": "code",
      "execution_count": null,
      "metadata": {
        "id": "u3UDY76KOFdb"
      },
      "outputs": [],
      "source": [
        "\n",
        "\n",
        "train = pd.concat([train1.loc[:,['title','text','label']],\n",
        "                  train2.loc[:,['title','text','label']],\n",
        "                  train3.loc[:,['title','text','label']],\n",
        "                  train4.loc[:,['title','text','label']]])"
      ]
    },
    {
      "cell_type": "code",
      "execution_count": null,
      "metadata": {
        "colab": {
          "base_uri": "https://localhost:8080/"
        },
        "id": "JEFkdXuMOFgZ",
        "outputId": "ba356cea-2d84-436b-8571-6aed55b3628c"
      },
      "outputs": [
        {
          "data": {
            "text/plain": [
              "title    444\n",
              "text      33\n",
              "label      0\n",
              "dtype: int64"
            ]
          },
          "execution_count": 16,
          "metadata": {},
          "output_type": "execute_result"
        }
      ],
      "source": [
        "# checking null values\n",
        "train.isna().sum()"
      ]
    },
    {
      "cell_type": "code",
      "execution_count": null,
      "metadata": {
        "id": "iBOIxu92OFjf"
      },
      "outputs": [],
      "source": [
        "\n",
        "# removing null values\n",
        "train.dropna(inplace=True)\n",
        "     "
      ]
    },
    {
      "cell_type": "code",
      "execution_count": null,
      "metadata": {
        "colab": {
          "base_uri": "https://localhost:8080/"
        },
        "id": "Gfw4vZQKOFmW",
        "outputId": "8599d736-cf5b-4358-d33b-e3cfca4c470e"
      },
      "outputs": [
        {
          "data": {
            "text/plain": [
              "5412"
            ]
          },
          "execution_count": 18,
          "metadata": {},
          "output_type": "execute_result"
        }
      ],
      "source": [
        "# Checking for duplicate values\n",
        "len(train[train.duplicated()])"
      ]
    },
    {
      "cell_type": "code",
      "execution_count": null,
      "metadata": {
        "id": "LZiU33g6OFpO"
      },
      "outputs": [],
      "source": [
        "\n",
        "# removing duplicated values\n",
        "train.drop_duplicates(inplace=True)"
      ]
    },
    {
      "cell_type": "code",
      "execution_count": null,
      "metadata": {
        "id": "k0p-A60NOFsZ"
      },
      "outputs": [],
      "source": [
        "train = train.sample(frac=1).reset_index(drop=True)"
      ]
    },
    {
      "cell_type": "code",
      "execution_count": null,
      "metadata": {
        "colab": {
          "base_uri": "https://localhost:8080/",
          "height": 357
        },
        "id": "lyRyAxsdOFvj",
        "outputId": "bb7834c4-71b5-4182-ded4-89a652f1966c"
      },
      "outputs": [
        {
          "data": {
            "image/png": "[encoded data removed]",
            "text/plain": [
              "<Figure size 648x432 with 1 Axes>"
            ]
          },
          "metadata": {},
          "output_type": "display_data"
        }
      ],
      "source": [
        "# Checking if our data is well balanced\n",
        "plt.figure(figsize=(9,6))\n",
        "plt.pie(train['label'].value_counts(),explode=[0.1,0.1],colors=['red','cyan'],startangle=90,shadow=True,labels=['True','Fake'],autopct='%1.1f%%',textprops={'fontsize': 14});\n",
        "     "
      ]
    },
    {
      "cell_type": "code",
      "execution_count": null,
      "metadata": {
        "colab": {
          "base_uri": "https://localhost:8080/"
        },
        "id": "tHLr17kAO7uD",
        "outputId": "a26fc310-39a1-41ca-ce79-1bd4c43768a7"
      },
      "outputs": [
        {
          "name": "stderr",
          "output_type": "stream",
          "text": [
            "[nltk_data] Downloading package stopwords to /root/nltk_data...\n",
            "[nltk_data]   Unzipping corpora/stopwords.zip.\n"
          ]
        }
      ],
      "source": [
        "\n",
        "# removing the commoner inflexional endings from words in English\n",
        "import nltk\n",
        "nltk.download('stopwords')\n",
        "from nltk.stem.porter import PorterStemmer\n",
        "stemmer = PorterStemmer()\n",
        "from nltk.corpus import stopwords"
      ]
    },
    {
      "cell_type": "code",
      "execution_count": null,
      "metadata": {
        "id": "AjV2v4TvO7xa"
      },
      "outputs": [],
      "source": [
        "\n",
        "stop_words = stopwords.words('english')\n",
        "text_cleaning_re = '[^a-zA-Z]'\n",
        "     "
      ]
    },
    {
      "cell_type": "code",
      "execution_count": null,
      "metadata": {
        "id": "9LYrb8rUO70i"
      },
      "outputs": [],
      "source": [
        "# function for text processing\n",
        "def preprocess(text, stem=False):\n",
        "  text = re.sub(text_cleaning_re, ' ', str(text).lower()).strip()     # use re package to removing everything that is not in letter\n",
        "  tokens = []\n",
        "  for token in text.split():\n",
        "    if token not in stop_words:\n",
        "      if stem:\n",
        "        tokens.append(stemmer.stem(token))\n",
        "      else:\n",
        "        tokens.append(token)\n",
        "  return \" \".join(tokens)"
      ]
    },
    {
      "cell_type": "code",
      "execution_count": null,
      "metadata": {
        "colab": {
          "base_uri": "https://localhost:8080/"
        },
        "id": "oUWCnlBqO73c",
        "outputId": "ef56a481-65e4-4f91-9d53-d05a522bf2ab"
      },
      "outputs": [
        {
          "data": {
            "text/plain": [
              "0    change graphic courtesy atlantic highlights di...\n",
              "1    media bias become mental illness media bias be...\n",
              "2    vatican city reuters pope francis urged u pres...\n",
              "3    lincoln october standing rock sioux tribe cont...\n",
              "4    later week pope francis reportedly make moral ...\n",
              "Name: text, dtype: object"
            ]
          },
          "execution_count": 25,
          "metadata": {},
          "output_type": "execute_result"
        }
      ],
      "source": [
        "# text processing\n",
        "train['text'] = train['text'].apply(lambda x: preprocess(x))\n",
        "train['text'].head()"
      ]
    },
    {
      "cell_type": "code",
      "execution_count": null,
      "metadata": {
        "id": "VkCcM9oAO77W"
      },
      "outputs": [],
      "source": [
        "\n",
        "X = train.text.values           # independent variable\n",
        "y = train.label.values          # dependent variable"
      ]
    },
    {
      "cell_type": "code",
      "execution_count": null,
      "metadata": {
        "id": "Izn-MjrYO7-n"
      },
      "outputs": [],
      "source": [
        "# splitting the dataset into train and validation sets\n",
        "from sklearn.model_selection import train_test_split\n",
        "X_train, X_val, y_train, y_val = train_test_split(X, y, test_size = 0.2, stratify = y)\n",
        "     "
      ]
    },
    {
      "cell_type": "code",
      "execution_count": null,
      "metadata": {
        "id": "nwe8sKgQPiql"
      },
      "outputs": [],
      "source": [
        "# transform our textual X to numerical so that our ML model can understand it and can work with it\n",
        "from sklearn.feature_extraction.text import TfidfVectorizer\n",
        "\n",
        "tfidf_v = TfidfVectorizer(max_features=5000,ngram_range=(1,3),max_df=0.7)\n",
        "\n",
        "tfidf_train = tfidf_v.fit_transform(X_train).toarray()\n",
        "tfidf_val = tfidf_v.transform(X_val).toarray()"
      ]
    },
    {
      "cell_type": "code",
      "execution_count": null,
      "metadata": {
        "id": "_KFC-VMlPitm"
      },
      "outputs": [],
      "source": [
        "def plot_confusion_matrix(cm, classes,\n",
        "                          normalize=False,\n",
        "                          title='Confusion matrix',\n",
        "                          cmap=plt.cm.Blues):\n",
        "    \"\"\"\n",
        "    See full source and example: \n",
        "    http://scikit-learn.org/stable/auto_examples/model_selection/plot_confusion_matrix.html\n",
        "    \n",
        "    This function prints and plots the confusion matrix.\n",
        "    Normalization can be applied by setting `normalize=True`.\n",
        "    \"\"\"\n",
        "    plt.imshow(cm, interpolation='nearest', cmap=cmap)\n",
        "    plt.title(title)\n",
        "    plt.colorbar()\n",
        "    tick_marks = np.arange(len(classes))\n",
        "    plt.xticks(tick_marks, classes, rotation=45)\n",
        "    plt.yticks(tick_marks, classes)\n",
        "\n",
        "    if normalize:\n",
        "        cm = cm.astype('float') / cm.sum(axis=1)[:, np.newaxis]\n",
        "        print(\"Normalized confusion matrix\")\n",
        "    else:\n",
        "        print('Confusion matrix, without normalization')\n",
        "\n",
        "    thresh = cm.max() / 2.\n",
        "    for i, j in itertools.product(range(cm.shape[0]), range(cm.shape[1])):\n",
        "        plt.text(j, i, cm[i, j],\n",
        "                 horizontalalignment=\"center\",\n",
        "                 color=\"white\" if cm[i, j] > thresh else \"black\")\n",
        "\n",
        "    plt.tight_layout()\n",
        "    plt.ylabel('True label')\n",
        "    plt.xlabel('Predicted label')\n",
        "     \n"
      ]
    },
    {
      "cell_type": "markdown",
      "metadata": {
        "id": "D3O-KoR4QpsL"
      },
      "source": [
        "RandomForest Classifier\n",
        "Hyperparameter tuning"
      ]
    },
    {
      "cell_type": "code",
      "execution_count": null,
      "metadata": {
        "colab": {
          "background_save": true
        },
        "id": "zKZbLYH3Piw5"
      },
      "outputs": [],
      "source": [
        "rf_clf = RandomForestClassifier(n_estimators=100, max_depth=6, min_samples_split=50, min_samples_leaf=46)\n",
        "rf_clf.fit(tfidf_train,y_train)\n",
        "tr_preds = rf_clf.predict(tfidf_train)  # predicting train\n",
        "preds = rf_clf.predict(tfidf_val)       # predicting validation"
      ]
    },
    {
      "cell_type": "code",
      "execution_count": null,
      "metadata": {
        "colab": {
          "background_save": true
        },
        "id": "3WvQAJL7Pizv",
        "outputId": "ddd0e0f4-246a-4a7d-b458-dc0f4a000a8b"
      },
      "outputs": [
        {
          "name": "stdout",
          "output_type": "stream",
          "text": [
            "Train accuracy: 0.8593213058419243\n",
            "Validation accuracy: 0.854524627720504\n"
          ]
        }
      ],
      "source": [
        "print('Train accuracy:',accuracy_score(y_train, tr_preds))\n",
        "print('Validation accuracy:',accuracy_score(y_val, preds))"
      ]
    },
    {
      "cell_type": "code",
      "execution_count": null,
      "metadata": {
        "colab": {
          "background_save": true
        },
        "id": "DzKWJo3-Pi2m",
        "outputId": "3a49879d-62df-40ee-99a7-19feb1b7d33d"
      },
      "outputs": [
        {
          "name": "stdout",
          "output_type": "stream",
          "text": [
            "              precision    recall  f1-score   support\n",
            "\n",
            "           0       0.81      0.96      0.88     22544\n",
            "           1       0.94      0.74      0.83     19360\n",
            "\n",
            "    accuracy                           0.86     41904\n",
            "   macro avg       0.88      0.85      0.86     41904\n",
            "weighted avg       0.87      0.86      0.86     41904\n",
            "\n"
          ]
        }
      ],
      "source": [
        "# train classification report for RandomForest\n",
        "print(classification_report(y_train,tr_preds))\n",
        "     "
      ]
    },
    {
      "cell_type": "code",
      "execution_count": null,
      "metadata": {
        "colab": {
          "background_save": true
        },
        "id": "rEIrN6soPi58",
        "outputId": "f03183ea-96ee-4854-e165-5f50bdeacdf9"
      },
      "outputs": [
        {
          "name": "stdout",
          "output_type": "stream",
          "text": [
            "              precision    recall  f1-score   support\n",
            "\n",
            "           0       0.81      0.96      0.88      5636\n",
            "           1       0.94      0.74      0.82      4840\n",
            "\n",
            "    accuracy                           0.85     10476\n",
            "   macro avg       0.87      0.85      0.85     10476\n",
            "weighted avg       0.87      0.85      0.85     10476\n",
            "\n"
          ]
        }
      ],
      "source": [
        "# validation classification report for RandomForest\n",
        "print(classification_report(y_val,preds))\n",
        "     "
      ]
    },
    {
      "cell_type": "code",
      "execution_count": null,
      "metadata": {
        "colab": {
          "background_save": true
        },
        "id": "VI9txrSdPjDm",
        "outputId": "075f263d-de9c-49f1-c4da-f94139fea978"
      },
      "outputs": [
        {
          "data": {
            "image/png": "[encoded data removed]",
            "text/plain": [
              "<Figure size 432x288 with 1 Axes>"
            ]
          },
          "metadata": {},
          "output_type": "display_data"
        }
      ],
      "source": [
        "\n",
        "# train and validation ROC-AUC curve for RandomForest\n",
        "\n",
        "train_fpr, train_tpr, tr_thresholds = roc_curve(y_train, tr_preds)\n",
        "test_fpr, test_tpr, te_thresholds = roc_curve(y_val, preds)\n",
        "\n",
        "plt.grid()\n",
        "\n",
        "plt.plot(train_fpr, train_tpr, label=\" AUC Train =\"+str(auc(train_fpr, train_tpr).round(4)))\n",
        "plt.plot(test_fpr, test_tpr, label=\" AUC Val =\"+str(auc(test_fpr, test_tpr).round(4)))\n",
        "plt.plot([0,1],[0,1],'g--')\n",
        "plt.legend()\n",
        "plt.xlabel(\"False Positive Rate\")\n",
        "plt.ylabel(\"True Positive Rate\")\n",
        "plt.title(\"AUC(ROC curve)\")\n",
        "plt.grid(color='black', linestyle='-', linewidth=0.5)\n",
        "plt.show()"
      ]
    },
    {
      "cell_type": "code",
      "execution_count": null,
      "metadata": {
        "colab": {
          "background_save": true
        },
        "id": "2oJ5j6JQO8B_",
        "outputId": "7714a86f-8cbf-4348-ee4b-8d74fcc240eb"
      },
      "outputs": [
        {
          "name": "stdout",
          "output_type": "stream",
          "text": [
            "Confusion matrix, without normalization\n"
          ]
        },
        {
          "data": {
            "image/png": "[encoded data removed]",
            "text/plain": [
              "<Figure size 432x288 with 2 Axes>"
            ]
          },
          "metadata": {},
          "output_type": "display_data"
        }
      ],
      "source": [
        "\n",
        "# train confusion matrix for RandomForest\n",
        "cm_train = confusion_matrix(y_train,tr_preds)\n",
        "plot_confusion_matrix(cm_train,classes=['True','Fake'])"
      ]
    },
    {
      "cell_type": "code",
      "execution_count": null,
      "metadata": {
        "colab": {
          "background_save": true
        },
        "id": "vxnu464YO8FU",
        "outputId": "994dd4a4-2e57-496d-e692-45ba7baf7e66"
      },
      "outputs": [
        {
          "name": "stdout",
          "output_type": "stream",
          "text": [
            "Confusion matrix, without normalization\n"
          ]
        },
        {
          "data": {
            "image/png": "[encoded data removed]",
            "text/plain": [
              "<Figure size 432x288 with 2 Axes>"
            ]
          },
          "metadata": {},
          "output_type": "display_data"
        }
      ],
      "source": [
        "# validation confusion matrix for RandomForest\n",
        "cm_test = confusion_matrix(y_val,preds)\n",
        "plot_confusion_matrix(cm_test,classes=['True','Fake'])"
      ]
    },
    {
      "cell_type": "markdown",
      "metadata": {
        "id": "QukO49uORNPm"
      },
      "source": [
        "Logistic Regression\n",
        "Hyperparameter tuning"
      ]
    },
    {
      "cell_type": "code",
      "execution_count": null,
      "metadata": {
        "colab": {
          "background_save": true
        },
        "id": "TipLmREKROmu"
      },
      "outputs": [],
      "source": [
        "\n",
        "lr = LogisticRegression(C=2, max_iter=10000)\n",
        "lr.fit(tfidf_train,y_train)\n",
        "tr_preds = lr.predict(tfidf_train)\n",
        "preds = lr.predict(tfidf_val)"
      ]
    },
    {
      "cell_type": "code",
      "execution_count": null,
      "metadata": {
        "colab": {
          "background_save": true
        },
        "id": "egR1tTrhROpp",
        "outputId": "7bb434df-840d-4adb-f749-5044c030b24e"
      },
      "outputs": [
        {
          "name": "stdout",
          "output_type": "stream",
          "text": [
            "Train accuracy: 0.9591685757922871\n",
            "Validation accuracy: 0.9392898052691867\n"
          ]
        }
      ],
      "source": [
        "\n",
        "print('Train accuracy:',accuracy_score(y_train, tr_preds))\n",
        "print('Validation accuracy:',accuracy_score(y_val, preds))\n",
        "     "
      ]
    },
    {
      "cell_type": "code",
      "execution_count": null,
      "metadata": {
        "colab": {
          "background_save": true
        },
        "id": "JNGfgE1lROs9",
        "outputId": "ea3eb472-9237-4c22-f5a2-95dcbd5ac4d5"
      },
      "outputs": [
        {
          "name": "stdout",
          "output_type": "stream",
          "text": [
            "              precision    recall  f1-score   support\n",
            "\n",
            "           0       0.96      0.96      0.96     22544\n",
            "           1       0.96      0.95      0.96     19360\n",
            "\n",
            "    accuracy                           0.96     41904\n",
            "   macro avg       0.96      0.96      0.96     41904\n",
            "weighted avg       0.96      0.96      0.96     41904\n",
            "\n"
          ]
        }
      ],
      "source": [
        "\n",
        "print(classification_report(y_train, tr_preds))       # train"
      ]
    },
    {
      "cell_type": "code",
      "execution_count": null,
      "metadata": {
        "colab": {
          "background_save": true
        },
        "id": "V6rURlQTROv1",
        "outputId": "a763c0b1-711e-4014-b2f9-862a9d54a577"
      },
      "outputs": [
        {
          "name": "stdout",
          "output_type": "stream",
          "text": [
            "              precision    recall  f1-score   support\n",
            "\n",
            "           0       0.94      0.95      0.94      5636\n",
            "           1       0.94      0.93      0.93      4840\n",
            "\n",
            "    accuracy                           0.94     10476\n",
            "   macro avg       0.94      0.94      0.94     10476\n",
            "weighted avg       0.94      0.94      0.94     10476\n",
            "\n"
          ]
        }
      ],
      "source": [
        "\n",
        "print(classification_report(y_val, preds))     # validation"
      ]
    },
    {
      "cell_type": "code",
      "execution_count": null,
      "metadata": {
        "colab": {
          "background_save": true
        },
        "id": "MTWMgr_sROyk",
        "outputId": "2d1e4c2e-6a05-4c2f-a23f-b757bc2ff984"
      },
      "outputs": [
        {
          "data": {
            "image/png": "[encoded data removed]",
            "text/plain": [
              "<Figure size 432x288 with 1 Axes>"
            ]
          },
          "metadata": {},
          "output_type": "display_data"
        }
      ],
      "source": [
        "# train and validation ROC-AUC curve for Logistic Regression\n",
        "train_fpr, train_tpr, tr_thresholds = roc_curve(y_train, tr_preds)\n",
        "test_fpr, test_tpr, te_thresholds = roc_curve(y_val, preds)\n",
        "\n",
        "plt.grid()\n",
        "\n",
        "plt.plot(train_fpr, train_tpr, label=\" AUC Train =\"+str(auc(train_fpr, train_tpr).round(4)))\n",
        "plt.plot(test_fpr, test_tpr, label=\" AUC Val =\"+str(auc(test_fpr, test_tpr).round(4)))\n",
        "plt.plot([0,1],[0,1],'g--')\n",
        "plt.legend()\n",
        "plt.xlabel(\"False Positive Rate\")\n",
        "plt.ylabel(\"True Positive Rate\")\n",
        "plt.title(\"AUC(ROC curve)\")\n",
        "plt.grid(color='black', linestyle='-', linewidth=0.5)\n",
        "plt.show()"
      ]
    },
    {
      "cell_type": "code",
      "execution_count": null,
      "metadata": {
        "colab": {
          "background_save": true
        },
        "id": "gWRSnb-uRO1i",
        "outputId": "e3676dd4-e5de-4b50-fccb-a433ed0f7a72"
      },
      "outputs": [
        {
          "name": "stdout",
          "output_type": "stream",
          "text": [
            "Confusion matrix, without normalization\n"
          ]
        },
        {
          "data": {
            "image/png": "[encoded data removed]",
            "text/plain": [
              "<Figure size 432x288 with 2 Axes>"
            ]
          },
          "metadata": {},
          "output_type": "display_data"
        }
      ],
      "source": [
        "# train confusion matrix for Logistic Regession\n",
        "cm_train = confusion_matrix(y_train,tr_preds)\n",
        "plot_confusion_matrix(cm_train,classes=['True','Fake'])\n",
        "     "
      ]
    },
    {
      "cell_type": "code",
      "execution_count": null,
      "metadata": {
        "colab": {
          "background_save": true
        },
        "id": "uNJaTbRWRO43",
        "outputId": "a740b730-87c2-4943-b0f1-706e2af16a8e"
      },
      "outputs": [
        {
          "name": "stdout",
          "output_type": "stream",
          "text": [
            "Confusion matrix, without normalization\n"
          ]
        },
        {
          "data": {
            "image/png": "[encoded data removed]",
            "text/plain": [
              "<Figure size 432x288 with 2 Axes>"
            ]
          },
          "metadata": {},
          "output_type": "display_data"
        }
      ],
      "source": [
        "# validation confusion matrix for Logistic Regession\n",
        "cm_test = confusion_matrix(y_val,preds)\n",
        "plot_confusion_matrix(cm_test,classes=['True','Fake'])"
      ]
    },
    {
      "cell_type": "markdown",
      "metadata": {
        "id": "SSHlCS-gRy0l"
      },
      "source": [
        "Testing on different datasets\n",
        "test1"
      ]
    },
    {
      "cell_type": "code",
      "execution_count": null,
      "metadata": {
        "colab": {
          "background_save": true
        },
        "id": "RJ8M7lcMRO7p",
        "outputId": "5f604fe6-910c-4b5f-fac3-70fce9e5b4e0"
      },
      "outputs": [
        {
          "data": {
            "text/html": [
              "\n",
              "  <div id=\"df-84ee6553-7c6c-493a-a3d7-c6aa2fa0a1fc\">\n",
              "    <div class=\"colab-df-container\">\n",
              "      <div>\n",
              "<style scoped>\n",
              "    .dataframe tbody tr th:only-of-type {\n",
              "        vertical-align: middle;\n",
              "    }\n",
              "\n",
              "    .dataframe tbody tr th {\n",
              "        vertical-align: top;\n",
              "    }\n",
              "\n",
              "    .dataframe thead th {\n",
              "        text-align: right;\n",
              "    }\n",
              "</style>\n",
              "<table border=\"1\" class=\"dataframe\">\n",
              "  <thead>\n",
              "    <tr style=\"text-align: right;\">\n",
              "      <th></th>\n",
              "      <th>id</th>\n",
              "      <th>title</th>\n",
              "      <th>author</th>\n",
              "      <th>text</th>\n",
              "      <th>label</th>\n",
              "      <th>label_rf</th>\n",
              "      <th>label_lr</th>\n",
              "    </tr>\n",
              "  </thead>\n",
              "  <tbody>\n",
              "    <tr>\n",
              "      <th>0</th>\n",
              "      <td>9747</td>\n",
              "      <td>Comment on After Sweeping Election, First Thin...</td>\n",
              "      <td>Debbie Menon</td>\n",
              "      <td>Dispatches from Wolf Country –Sitting in my ca...</td>\n",
              "      <td>1</td>\n",
              "      <td>1</td>\n",
              "      <td>1</td>\n",
              "    </tr>\n",
              "    <tr>\n",
              "      <th>1</th>\n",
              "      <td>2081</td>\n",
              "      <td>Health experts share the top home remedies for...</td>\n",
              "      <td>Amy Goodrich</td>\n",
              "      <td>Health experts share the top home remedies for...</td>\n",
              "      <td>1</td>\n",
              "      <td>1</td>\n",
              "      <td>1</td>\n",
              "    </tr>\n",
              "    <tr>\n",
              "      <th>2</th>\n",
              "      <td>1764</td>\n",
              "      <td>Trump to Paul Ryan: Get NATO to ’Pay Their Bil...</td>\n",
              "      <td>Pam Key</td>\n",
              "      <td>Tuesday in Kenosha, WI at the world headquarte...</td>\n",
              "      <td>0</td>\n",
              "      <td>1</td>\n",
              "      <td>1</td>\n",
              "    </tr>\n",
              "    <tr>\n",
              "      <th>3</th>\n",
              "      <td>8193</td>\n",
              "      <td>How Putin Derailed the West   : Information</td>\n",
              "      <td>informationclearinghouse.info</td>\n",
              "      <td>How Putin Derailed the West\\nBy Mike Whitney ...</td>\n",
              "      <td>1</td>\n",
              "      <td>1</td>\n",
              "      <td>1</td>\n",
              "    </tr>\n",
              "    <tr>\n",
              "      <th>4</th>\n",
              "      <td>7898</td>\n",
              "      <td>Introducing The Upshot’s Presidential Predicti...</td>\n",
              "      <td>Josh Katz</td>\n",
              "      <td>For now, at least, Hillary Clinton has a 76 pe...</td>\n",
              "      <td>0</td>\n",
              "      <td>1</td>\n",
              "      <td>1</td>\n",
              "    </tr>\n",
              "    <tr>\n",
              "      <th>5</th>\n",
              "      <td>5412</td>\n",
              "      <td>The Working Class Won The Election — Paul Crai...</td>\n",
              "      <td>pcr3</td>\n",
              "      <td>The Working Class Won The Election\\nPaul Craig...</td>\n",
              "      <td>1</td>\n",
              "      <td>1</td>\n",
              "      <td>1</td>\n",
              "    </tr>\n",
              "    <tr>\n",
              "      <th>6</th>\n",
              "      <td>11112</td>\n",
              "      <td>A Majority Agreed She Was Raped by a Stanford ...</td>\n",
              "      <td>Joe Drape and Marc Tracy</td>\n",
              "      <td>At Stanford University, in a conference room a...</td>\n",
              "      <td>0</td>\n",
              "      <td>0</td>\n",
              "      <td>0</td>\n",
              "    </tr>\n",
              "    <tr>\n",
              "      <th>7</th>\n",
              "      <td>4382</td>\n",
              "      <td>Most Idiotic Comment Ever? “Sell Gold Because ...</td>\n",
              "      <td>admin</td>\n",
              "      <td>Financial Markets , Gold , Market Manipulation...</td>\n",
              "      <td>1</td>\n",
              "      <td>1</td>\n",
              "      <td>1</td>\n",
              "    </tr>\n",
              "    <tr>\n",
              "      <th>8</th>\n",
              "      <td>15908</td>\n",
              "      <td>Two Groups Scuffle Amid Art Inside a Minneapol...</td>\n",
              "      <td>Randy Kennedy</td>\n",
              "      <td>Francis Henry Taylor, a director of the Metrop...</td>\n",
              "      <td>0</td>\n",
              "      <td>0</td>\n",
              "      <td>0</td>\n",
              "    </tr>\n",
              "    <tr>\n",
              "      <th>9</th>\n",
              "      <td>8768</td>\n",
              "      <td>War In The Matrix — How Our Minds Are Programm...</td>\n",
              "      <td>noreply@blogger.com (Alexander Light)</td>\n",
              "      <td>. War In The Matrix — How Our Minds Are Progra...</td>\n",
              "      <td>1</td>\n",
              "      <td>1</td>\n",
              "      <td>1</td>\n",
              "    </tr>\n",
              "  </tbody>\n",
              "</table>\n",
              "</div>\n",
              "      <button class=\"colab-df-convert\" onclick=\"convertToInteractive('df-84ee6553-7c6c-493a-a3d7-c6aa2fa0a1fc')\"\n",
              "              title=\"Convert this dataframe to an interactive table.\"\n",
              "              style=\"display:none;\">\n",
              "        \n",
              "  <svg xmlns=\"http://www.w3.org/2000/svg\" height=\"24px\"viewBox=\"0 0 24 24\"\n",
              "       width=\"24px\">\n",
              "    <path d=\"M0 0h24v24H0V0z\" fill=\"none\"/>\n",
              "    <path d=\"M18.56 5.44l.94 2.06.94-2.06 2.06-.94-2.06-.94-.94-2.06-.94 2.06-2.06.94zm-11 1L8.5 8.5l.94-2.06 2.06-.94-2.06-.94L8.5 2.5l-.94 2.06-2.06.94zm10 10l.94 2.06.94-2.06 2.06-.94-2.06-.94-.94-2.06-.94 2.06-2.06.94z\"/><path d=\"M17.41 7.96l-1.37-1.37c-.4-.4-.92-.59-1.43-.59-.52 0-1.04.2-1.43.59L10.3 9.45l-7.72 7.72c-.78.78-.78 2.05 0 2.83L4 21.41c.39.39.9.59 1.41.59.51 0 1.02-.2 1.41-.59l7.78-7.78 2.81-2.81c.8-.78.8-2.07 0-2.86zM5.41 20L4 18.59l7.72-7.72 1.47 1.35L5.41 20z\"/>\n",
              "  </svg>\n",
              "      </button>\n",
              "      \n",
              "  <style>\n",
              "    .colab-df-container {\n",
              "      display:flex;\n",
              "      flex-wrap:wrap;\n",
              "      gap: 12px;\n",
              "    }\n",
              "\n",
              "    .colab-df-convert {\n",
              "      background-color: #E8F0FE;\n",
              "      border: none;\n",
              "      border-radius: 50%;\n",
              "      cursor: pointer;\n",
              "      display: none;\n",
              "      fill: #1967D2;\n",
              "      height: 32px;\n",
              "      padding: 0 0 0 0;\n",
              "      width: 32px;\n",
              "    }\n",
              "\n",
              "    .colab-df-convert:hover {\n",
              "      background-color: #E2EBFA;\n",
              "      box-shadow: 0px 1px 2px rgba(60, 64, 67, 0.3), 0px 1px 3px 1px rgba(60, 64, 67, 0.15);\n",
              "      fill: #174EA6;\n",
              "    }\n",
              "\n",
              "    [theme=dark] .colab-df-convert {\n",
              "      background-color: #3B4455;\n",
              "      fill: #D2E3FC;\n",
              "    }\n",
              "\n",
              "    [theme=dark] .colab-df-convert:hover {\n",
              "      background-color: #434B5C;\n",
              "      box-shadow: 0px 1px 3px 1px rgba(0, 0, 0, 0.15);\n",
              "      filter: drop-shadow(0px 1px 2px rgba(0, 0, 0, 0.3));\n",
              "      fill: #FFFFFF;\n",
              "    }\n",
              "  </style>\n",
              "\n",
              "      <script>\n",
              "        const buttonEl =\n",
              "          document.querySelector('#df-84ee6553-7c6c-493a-a3d7-c6aa2fa0a1fc button.colab-df-convert');\n",
              "        buttonEl.style.display =\n",
              "          google.colab.kernel.accessAllowed ? 'block' : 'none';\n",
              "\n",
              "        async function convertToInteractive(key) {\n",
              "          const element = document.querySelector('#df-84ee6553-7c6c-493a-a3d7-c6aa2fa0a1fc');\n",
              "          const dataTable =\n",
              "            await google.colab.kernel.invokeFunction('convertToInteractive',\n",
              "                                                     [key], {});\n",
              "          if (!dataTable) return;\n",
              "\n",
              "          const docLinkHtml = 'Like what you see? Visit the ' +\n",
              "            '<a target=\"_blank\" href=https://colab.research.google.com/notebooks/data_table.ipynb>data table notebook</a>'\n",
              "            + ' to learn more about interactive tables.';\n",
              "          element.innerHTML = '';\n",
              "          dataTable['output_type'] = 'display_data';\n",
              "          await google.colab.output.renderOutput(dataTable, element);\n",
              "          const docLink = document.createElement('div');\n",
              "          docLink.innerHTML = docLinkHtml;\n",
              "          element.appendChild(docLink);\n",
              "        }\n",
              "      </script>\n",
              "    </div>\n",
              "  </div>\n",
              "  "
            ],
            "text/plain": [
              "      id                                              title  \\\n",
              "0   9747  Comment on After Sweeping Election, First Thin...   \n",
              "1   2081  Health experts share the top home remedies for...   \n",
              "2   1764  Trump to Paul Ryan: Get NATO to ’Pay Their Bil...   \n",
              "3   8193        How Putin Derailed the West   : Information   \n",
              "4   7898  Introducing The Upshot’s Presidential Predicti...   \n",
              "5   5412  The Working Class Won The Election — Paul Crai...   \n",
              "6  11112  A Majority Agreed She Was Raped by a Stanford ...   \n",
              "7   4382  Most Idiotic Comment Ever? “Sell Gold Because ...   \n",
              "8  15908  Two Groups Scuffle Amid Art Inside a Minneapol...   \n",
              "9   8768  War In The Matrix — How Our Minds Are Programm...   \n",
              "\n",
              "                                  author  \\\n",
              "0                           Debbie Menon   \n",
              "1                           Amy Goodrich   \n",
              "2                                Pam Key   \n",
              "3          informationclearinghouse.info   \n",
              "4                              Josh Katz   \n",
              "5                                   pcr3   \n",
              "6               Joe Drape and Marc Tracy   \n",
              "7                                  admin   \n",
              "8                          Randy Kennedy   \n",
              "9  noreply@blogger.com (Alexander Light)   \n",
              "\n",
              "                                                text  label  label_rf  \\\n",
              "0  Dispatches from Wolf Country –Sitting in my ca...      1         1   \n",
              "1  Health experts share the top home remedies for...      1         1   \n",
              "2  Tuesday in Kenosha, WI at the world headquarte...      0         1   \n",
              "3   How Putin Derailed the West\\nBy Mike Whitney ...      1         1   \n",
              "4  For now, at least, Hillary Clinton has a 76 pe...      0         1   \n",
              "5  The Working Class Won The Election\\nPaul Craig...      1         1   \n",
              "6  At Stanford University, in a conference room a...      0         0   \n",
              "7  Financial Markets , Gold , Market Manipulation...      1         1   \n",
              "8  Francis Henry Taylor, a director of the Metrop...      0         0   \n",
              "9  . War In The Matrix — How Our Minds Are Progra...      1         1   \n",
              "\n",
              "   label_lr  \n",
              "0         1  \n",
              "1         1  \n",
              "2         1  \n",
              "3         1  \n",
              "4         1  \n",
              "5         1  \n",
              "6         0  \n",
              "7         1  \n",
              "8         0  \n",
              "9         1  "
            ]
          },
          "execution_count": 44,
          "metadata": {},
          "output_type": "execute_result"
        }
      ],
      "source": [
        "test1 = test1.dropna().reset_index(drop=True)\n",
        "X1 = test1.title.values\n",
        "X1_tfidf = tfidf_v.transform(X1).toarray()\n",
        "test1['label_rf'] = rf_clf.predict(X1_tfidf)       # RandomForest model\n",
        "test1['label_lr'] = lr.predict(X1_tfidf)           # Logistic Regression model\n",
        "test1.head(10)"
      ]
    },
    {
      "cell_type": "code",
      "execution_count": null,
      "metadata": {
        "colab": {
          "background_save": true
        },
        "id": "CKDwAQe0RO_N",
        "outputId": "ab17e74e-cd83-40fd-b4f7-5d69eb9958c1"
      },
      "outputs": [
        {
          "data": {
            "text/plain": [
              "0.5157232704402516"
            ]
          },
          "execution_count": 45,
          "metadata": {},
          "output_type": "execute_result"
        }
      ],
      "source": [
        "\n",
        "accuracy_score(test1.label,test1.label_rf)    # RandomForest model"
      ]
    },
    {
      "cell_type": "code",
      "execution_count": null,
      "metadata": {
        "colab": {
          "background_save": true
        },
        "id": "ffRoAr-AR7az",
        "outputId": "4cb00826-6713-4543-98db-63950fdbed53"
      },
      "outputs": [
        {
          "name": "stdout",
          "output_type": "stream",
          "text": [
            "              precision    recall  f1-score   support\n",
            "\n",
            "           0       0.85      0.18      0.29      2071\n",
            "           1       0.47      0.96      0.63      1586\n",
            "\n",
            "    accuracy                           0.52      3657\n",
            "   macro avg       0.66      0.57      0.46      3657\n",
            "weighted avg       0.68      0.52      0.44      3657\n",
            "\n"
          ]
        }
      ],
      "source": [
        "print(classification_report(test1.label,test1.label_rf))    # RandomForest model\n",
        "     "
      ]
    },
    {
      "cell_type": "code",
      "execution_count": null,
      "metadata": {
        "colab": {
          "background_save": true
        },
        "id": "Vdj7Vsd7R7eH",
        "outputId": "71210965-32a2-4d41-c30e-07cde4b010dc"
      },
      "outputs": [
        {
          "name": "stdout",
          "output_type": "stream",
          "text": [
            "Confusion matrix, without normalization\n"
          ]
        },
        {
          "data": {
            "image/png": "[encoded data removed]",
            "text/plain": [
              "<Figure size 432x288 with 2 Axes>"
            ]
          },
          "metadata": {},
          "output_type": "display_data"
        }
      ],
      "source": [
        "cm1_rf = confusion_matrix(test1.label,test1.label_rf)       # RandomForest model\n",
        "plot_confusion_matrix(cm1_rf,classes=['True','Fake'])"
      ]
    },
    {
      "cell_type": "code",
      "execution_count": null,
      "metadata": {
        "colab": {
          "background_save": true
        },
        "id": "OGmqooK5R7hw",
        "outputId": "f1d82d60-c369-4b21-e671-20e81417abc4"
      },
      "outputs": [
        {
          "data": {
            "text/plain": [
              "0.6179928903472792"
            ]
          },
          "execution_count": 48,
          "metadata": {},
          "output_type": "execute_result"
        }
      ],
      "source": [
        "\n",
        "accuracy_score(test1.label,test1.label_lr)      # Logistic Regression model"
      ]
    },
    {
      "cell_type": "code",
      "execution_count": null,
      "metadata": {
        "colab": {
          "background_save": true
        },
        "id": "xKx0o03JR7k8",
        "outputId": "d4fd37b5-8faf-4864-b14e-7b5efdf14651"
      },
      "outputs": [
        {
          "name": "stdout",
          "output_type": "stream",
          "text": [
            "              precision    recall  f1-score   support\n",
            "\n",
            "           0       0.96      0.34      0.50      2071\n",
            "           1       0.53      0.98      0.69      1586\n",
            "\n",
            "    accuracy                           0.62      3657\n",
            "   macro avg       0.75      0.66      0.60      3657\n",
            "weighted avg       0.77      0.62      0.58      3657\n",
            "\n"
          ]
        }
      ],
      "source": [
        "print(classification_report(test1.label,test1.label_lr))    # Logistic Regression model"
      ]
    },
    {
      "cell_type": "code",
      "execution_count": null,
      "metadata": {
        "colab": {
          "background_save": true
        },
        "id": "aDgBhV32R7oN",
        "outputId": "aecbe9c1-9935-466e-aa24-a38da6ec6f61"
      },
      "outputs": [
        {
          "name": "stdout",
          "output_type": "stream",
          "text": [
            "Confusion matrix, without normalization\n"
          ]
        },
        {
          "data": {
            "image/png": "[encoded data removed]",
            "text/plain": [
              "<Figure size 432x288 with 2 Axes>"
            ]
          },
          "metadata": {},
          "output_type": "display_data"
        }
      ],
      "source": [
        "cm1_lr = confusion_matrix(test1.label,test1.label_lr)     # Logistic Regression model\n",
        "plot_confusion_matrix(cm1_lr,classes=['True','Fake'])"
      ]
    },
    {
      "cell_type": "markdown",
      "metadata": {
        "id": "wMxFitxwSOdL"
      },
      "source": [
        "Test 2"
      ]
    },
    {
      "cell_type": "code",
      "execution_count": null,
      "metadata": {
        "colab": {
          "background_save": true
        },
        "id": "F7-VdcrxR7rc",
        "outputId": "2e9f195b-080b-48ee-ad7e-a8cb598b9a7f"
      },
      "outputs": [
        {
          "data": {
            "text/html": [
              "\n",
              "  <div id=\"df-ee99e286-921a-4c54-899c-70c0aaf151a4\">\n",
              "    <div class=\"colab-df-container\">\n",
              "      <div>\n",
              "<style scoped>\n",
              "    .dataframe tbody tr th:only-of-type {\n",
              "        vertical-align: middle;\n",
              "    }\n",
              "\n",
              "    .dataframe tbody tr th {\n",
              "        vertical-align: top;\n",
              "    }\n",
              "\n",
              "    .dataframe thead th {\n",
              "        text-align: right;\n",
              "    }\n",
              "</style>\n",
              "<table border=\"1\" class=\"dataframe\">\n",
              "  <thead>\n",
              "    <tr style=\"text-align: right;\">\n",
              "      <th></th>\n",
              "      <th>Unnamed: 0</th>\n",
              "      <th>title</th>\n",
              "      <th>text</th>\n",
              "      <th>label</th>\n",
              "      <th>label_rf</th>\n",
              "      <th>label_lr</th>\n",
              "    </tr>\n",
              "  </thead>\n",
              "  <tbody>\n",
              "    <tr>\n",
              "      <th>0</th>\n",
              "      <td>2404</td>\n",
              "      <td>The most predictable disaster in the history o...</td>\n",
              "      <td>Ask him, and he'll tell you himself. \"I'm very...</td>\n",
              "      <td>0</td>\n",
              "      <td>0</td>\n",
              "      <td>1</td>\n",
              "    </tr>\n",
              "    <tr>\n",
              "      <th>1</th>\n",
              "      <td>5777</td>\n",
              "      <td>Fox News Just Exposed Hillary’s ILLEGAL VOTING...</td>\n",
              "      <td>Home / News / Fox News Just Exposed Hillary’s ...</td>\n",
              "      <td>1</td>\n",
              "      <td>1</td>\n",
              "      <td>1</td>\n",
              "    </tr>\n",
              "    <tr>\n",
              "      <th>2</th>\n",
              "      <td>6027</td>\n",
              "      <td>Do You Know What It Means To Be An Introvert?</td>\n",
              "      <td>Leave a reply \\nKate Bartolotta – In this day ...</td>\n",
              "      <td>1</td>\n",
              "      <td>1</td>\n",
              "      <td>1</td>\n",
              "    </tr>\n",
              "    <tr>\n",
              "      <th>3</th>\n",
              "      <td>8500</td>\n",
              "      <td>Comment on Chicago Tribune: Hillary Clinton sh...</td>\n",
              "      <td>Posted on October 30, 2016 by Dr. Eowyn | 12 C...</td>\n",
              "      <td>1</td>\n",
              "      <td>0</td>\n",
              "      <td>1</td>\n",
              "    </tr>\n",
              "    <tr>\n",
              "      <th>4</th>\n",
              "      <td>844</td>\n",
              "      <td>Cruz, Kasich campaign announce collaboration t...</td>\n",
              "      <td>The presidential campaigns of Texas Sen. Ted C...</td>\n",
              "      <td>0</td>\n",
              "      <td>0</td>\n",
              "      <td>0</td>\n",
              "    </tr>\n",
              "    <tr>\n",
              "      <th>5</th>\n",
              "      <td>7806</td>\n",
              "      <td>Comment on Jury Finds Woman NOT Guilty of ‘Man...</td>\n",
              "      <td>Jury Nullification!!! Live it….Love it…..Learn...</td>\n",
              "      <td>1</td>\n",
              "      <td>0</td>\n",
              "      <td>1</td>\n",
              "    </tr>\n",
              "    <tr>\n",
              "      <th>6</th>\n",
              "      <td>8367</td>\n",
              "      <td>November 8 Is (Finally) Here: An Abridged Elec...</td>\n",
              "      <td>By Common Dreams After a national election sea...</td>\n",
              "      <td>1</td>\n",
              "      <td>1</td>\n",
              "      <td>1</td>\n",
              "    </tr>\n",
              "    <tr>\n",
              "      <th>7</th>\n",
              "      <td>9985</td>\n",
              "      <td>Half Of Russians Fear Syria Could Spark WW3</td>\n",
              "      <td>Half Of Russians Fear Syria Could Spark WW3 11...</td>\n",
              "      <td>1</td>\n",
              "      <td>0</td>\n",
              "      <td>1</td>\n",
              "    </tr>\n",
              "    <tr>\n",
              "      <th>8</th>\n",
              "      <td>6449</td>\n",
              "      <td>Has George Soros Committed Treason?</td>\n",
              "      <td>Has George Soros Committed Treason?\\n“His only...</td>\n",
              "      <td>1</td>\n",
              "      <td>0</td>\n",
              "      <td>1</td>\n",
              "    </tr>\n",
              "    <tr>\n",
              "      <th>9</th>\n",
              "      <td>6950</td>\n",
              "      <td>At DAPL, Confiscating Cameras as Evidence of J...</td>\n",
              "      <td>Reprinted from fair.org by Janine Jackson Mili...</td>\n",
              "      <td>1</td>\n",
              "      <td>0</td>\n",
              "      <td>1</td>\n",
              "    </tr>\n",
              "  </tbody>\n",
              "</table>\n",
              "</div>\n",
              "      <button class=\"colab-df-convert\" onclick=\"convertToInteractive('df-ee99e286-921a-4c54-899c-70c0aaf151a4')\"\n",
              "              title=\"Convert this dataframe to an interactive table.\"\n",
              "              style=\"display:none;\">\n",
              "        \n",
              "  <svg xmlns=\"http://www.w3.org/2000/svg\" height=\"24px\"viewBox=\"0 0 24 24\"\n",
              "       width=\"24px\">\n",
              "    <path d=\"M0 0h24v24H0V0z\" fill=\"none\"/>\n",
              "    <path d=\"M18.56 5.44l.94 2.06.94-2.06 2.06-.94-2.06-.94-.94-2.06-.94 2.06-2.06.94zm-11 1L8.5 8.5l.94-2.06 2.06-.94-2.06-.94L8.5 2.5l-.94 2.06-2.06.94zm10 10l.94 2.06.94-2.06 2.06-.94-2.06-.94-.94-2.06-.94 2.06-2.06.94z\"/><path d=\"M17.41 7.96l-1.37-1.37c-.4-.4-.92-.59-1.43-.59-.52 0-1.04.2-1.43.59L10.3 9.45l-7.72 7.72c-.78.78-.78 2.05 0 2.83L4 21.41c.39.39.9.59 1.41.59.51 0 1.02-.2 1.41-.59l7.78-7.78 2.81-2.81c.8-.78.8-2.07 0-2.86zM5.41 20L4 18.59l7.72-7.72 1.47 1.35L5.41 20z\"/>\n",
              "  </svg>\n",
              "      </button>\n",
              "      \n",
              "  <style>\n",
              "    .colab-df-container {\n",
              "      display:flex;\n",
              "      flex-wrap:wrap;\n",
              "      gap: 12px;\n",
              "    }\n",
              "\n",
              "    .colab-df-convert {\n",
              "      background-color: #E8F0FE;\n",
              "      border: none;\n",
              "      border-radius: 50%;\n",
              "      cursor: pointer;\n",
              "      display: none;\n",
              "      fill: #1967D2;\n",
              "      height: 32px;\n",
              "      padding: 0 0 0 0;\n",
              "      width: 32px;\n",
              "    }\n",
              "\n",
              "    .colab-df-convert:hover {\n",
              "      background-color: #E2EBFA;\n",
              "      box-shadow: 0px 1px 2px rgba(60, 64, 67, 0.3), 0px 1px 3px 1px rgba(60, 64, 67, 0.15);\n",
              "      fill: #174EA6;\n",
              "    }\n",
              "\n",
              "    [theme=dark] .colab-df-convert {\n",
              "      background-color: #3B4455;\n",
              "      fill: #D2E3FC;\n",
              "    }\n",
              "\n",
              "    [theme=dark] .colab-df-convert:hover {\n",
              "      background-color: #434B5C;\n",
              "      box-shadow: 0px 1px 3px 1px rgba(0, 0, 0, 0.15);\n",
              "      filter: drop-shadow(0px 1px 2px rgba(0, 0, 0, 0.3));\n",
              "      fill: #FFFFFF;\n",
              "    }\n",
              "  </style>\n",
              "\n",
              "      <script>\n",
              "        const buttonEl =\n",
              "          document.querySelector('#df-ee99e286-921a-4c54-899c-70c0aaf151a4 button.colab-df-convert');\n",
              "        buttonEl.style.display =\n",
              "          google.colab.kernel.accessAllowed ? 'block' : 'none';\n",
              "\n",
              "        async function convertToInteractive(key) {\n",
              "          const element = document.querySelector('#df-ee99e286-921a-4c54-899c-70c0aaf151a4');\n",
              "          const dataTable =\n",
              "            await google.colab.kernel.invokeFunction('convertToInteractive',\n",
              "                                                     [key], {});\n",
              "          if (!dataTable) return;\n",
              "\n",
              "          const docLinkHtml = 'Like what you see? Visit the ' +\n",
              "            '<a target=\"_blank\" href=https://colab.research.google.com/notebooks/data_table.ipynb>data table notebook</a>'\n",
              "            + ' to learn more about interactive tables.';\n",
              "          element.innerHTML = '';\n",
              "          dataTable['output_type'] = 'display_data';\n",
              "          await google.colab.output.renderOutput(dataTable, element);\n",
              "          const docLink = document.createElement('div');\n",
              "          docLink.innerHTML = docLinkHtml;\n",
              "          element.appendChild(docLink);\n",
              "        }\n",
              "      </script>\n",
              "    </div>\n",
              "  </div>\n",
              "  "
            ],
            "text/plain": [
              "   Unnamed: 0                                              title  \\\n",
              "0        2404  The most predictable disaster in the history o...   \n",
              "1        5777  Fox News Just Exposed Hillary’s ILLEGAL VOTING...   \n",
              "2        6027      Do You Know What It Means To Be An Introvert?   \n",
              "3        8500  Comment on Chicago Tribune: Hillary Clinton sh...   \n",
              "4         844  Cruz, Kasich campaign announce collaboration t...   \n",
              "5        7806  Comment on Jury Finds Woman NOT Guilty of ‘Man...   \n",
              "6        8367  November 8 Is (Finally) Here: An Abridged Elec...   \n",
              "7        9985        Half Of Russians Fear Syria Could Spark WW3   \n",
              "8        6449                Has George Soros Committed Treason?   \n",
              "9        6950  At DAPL, Confiscating Cameras as Evidence of J...   \n",
              "\n",
              "                                                text  label  label_rf  \\\n",
              "0  Ask him, and he'll tell you himself. \"I'm very...      0         0   \n",
              "1  Home / News / Fox News Just Exposed Hillary’s ...      1         1   \n",
              "2  Leave a reply \\nKate Bartolotta – In this day ...      1         1   \n",
              "3  Posted on October 30, 2016 by Dr. Eowyn | 12 C...      1         0   \n",
              "4  The presidential campaigns of Texas Sen. Ted C...      0         0   \n",
              "5  Jury Nullification!!! Live it….Love it…..Learn...      1         0   \n",
              "6  By Common Dreams After a national election sea...      1         1   \n",
              "7  Half Of Russians Fear Syria Could Spark WW3 11...      1         0   \n",
              "8  Has George Soros Committed Treason?\\n“His only...      1         0   \n",
              "9  Reprinted from fair.org by Janine Jackson Mili...      1         0   \n",
              "\n",
              "   label_lr  \n",
              "0         1  \n",
              "1         1  \n",
              "2         1  \n",
              "3         1  \n",
              "4         0  \n",
              "5         1  \n",
              "6         1  \n",
              "7         1  \n",
              "8         1  \n",
              "9         1  "
            ]
          },
          "execution_count": 51,
          "metadata": {},
          "output_type": "execute_result"
        }
      ],
      "source": [
        "\n",
        "test2 = test2.dropna().reset_index(drop=True)\n",
        "X2 = test2.text.values\n",
        "X2_tfidf = tfidf_v.transform(X2).toarray()\n",
        "test2['label_rf'] = rf_clf.predict(X2_tfidf)      # RandomForest model\n",
        "test2['label_lr'] = lr.predict(X2_tfidf)          # Logistic Regression model\n",
        "test2.head(10)"
      ]
    },
    {
      "cell_type": "code",
      "execution_count": null,
      "metadata": {
        "colab": {
          "background_save": true
        },
        "id": "QFV-LzcMR70e",
        "outputId": "f78f0459-9c37-45a7-9d66-c227d5524467"
      },
      "outputs": [
        {
          "data": {
            "text/plain": [
              "0.7142857142857143"
            ]
          },
          "execution_count": 52,
          "metadata": {},
          "output_type": "execute_result"
        }
      ],
      "source": [
        "accuracy_score(test2.label,test2.label_rf)      # RandomForest model"
      ]
    },
    {
      "cell_type": "code",
      "execution_count": null,
      "metadata": {
        "colab": {
          "background_save": true
        },
        "id": "agnG0XNPRPDl",
        "outputId": "7792726a-a886-410d-d35b-3de9176500df"
      },
      "outputs": [
        {
          "name": "stdout",
          "output_type": "stream",
          "text": [
            "              precision    recall  f1-score   support\n",
            "\n",
            "           0       0.68      0.81      0.74       634\n",
            "           1       0.77      0.62      0.68       633\n",
            "\n",
            "    accuracy                           0.71      1267\n",
            "   macro avg       0.72      0.71      0.71      1267\n",
            "weighted avg       0.72      0.71      0.71      1267\n",
            "\n"
          ]
        }
      ],
      "source": [
        "print(classification_report(test2.label,test2.label_rf))      # RandomForest model\n",
        "     "
      ]
    },
    {
      "cell_type": "code",
      "execution_count": null,
      "metadata": {
        "colab": {
          "background_save": true
        },
        "id": "MpKwo73wSjGQ",
        "outputId": "8e1e9cb0-5869-48ce-cdfe-611ca0fb50d8"
      },
      "outputs": [
        {
          "name": "stdout",
          "output_type": "stream",
          "text": [
            "Confusion matrix, without normalization\n"
          ]
        },
        {
          "data": {
            "image/png": "[encoded data removed]",
            "text/plain": [
              "<Figure size 432x288 with 2 Axes>"
            ]
          },
          "metadata": {},
          "output_type": "display_data"
        }
      ],
      "source": [
        "\n",
        "cm2_rf = confusion_matrix(test2.label,test2.label_rf)       # RandomForest model\n",
        "plot_confusion_matrix(cm2_rf,classes=['True','Fake'])"
      ]
    },
    {
      "cell_type": "code",
      "execution_count": null,
      "metadata": {
        "colab": {
          "background_save": true
        },
        "id": "ukaRnGY_SjXa",
        "outputId": "f63e0564-9887-4775-ae0f-22556977e8da"
      },
      "outputs": [
        {
          "data": {
            "text/plain": [
              "0.8697711128650355"
            ]
          },
          "execution_count": 55,
          "metadata": {},
          "output_type": "execute_result"
        }
      ],
      "source": [
        "accuracy_score(test2.label,test2.label_lr)      # Logistic Regression model"
      ]
    },
    {
      "cell_type": "code",
      "execution_count": null,
      "metadata": {
        "colab": {
          "background_save": true
        },
        "id": "asHN0RvYSjkA",
        "outputId": "9d2ca0bc-ca20-412e-f61e-09d2418b9a05"
      },
      "outputs": [
        {
          "name": "stdout",
          "output_type": "stream",
          "text": [
            "              precision    recall  f1-score   support\n",
            "\n",
            "           0       0.94      0.79      0.86       634\n",
            "           1       0.82      0.95      0.88       633\n",
            "\n",
            "    accuracy                           0.87      1267\n",
            "   macro avg       0.88      0.87      0.87      1267\n",
            "weighted avg       0.88      0.87      0.87      1267\n",
            "\n"
          ]
        }
      ],
      "source": [
        "print(classification_report(test2.label,test2.label_lr))      # Logistic Regression model\n",
        "     "
      ]
    },
    {
      "cell_type": "code",
      "execution_count": null,
      "metadata": {
        "colab": {
          "background_save": true
        },
        "id": "KhNp1lMjSjnc",
        "outputId": "fd4295e4-fcd2-469d-a4a2-5c9c72d8a18c"
      },
      "outputs": [
        {
          "name": "stdout",
          "output_type": "stream",
          "text": [
            "Confusion matrix, without normalization\n"
          ]
        },
        {
          "data": {
            "image/png": "[encoded data removed]",
            "text/plain": [
              "<Figure size 432x288 with 2 Axes>"
            ]
          },
          "metadata": {},
          "output_type": "display_data"
        }
      ],
      "source": [
        "\n",
        "cm2_lr = confusion_matrix(test2.label,test2.label_lr)     # Logistic Regression model\n",
        "plot_confusion_matrix(cm2_lr,classes=['True','Fake'])\n",
        "     "
      ]
    },
    {
      "cell_type": "markdown",
      "metadata": {
        "id": "OoQuGsCVS6iD"
      },
      "source": [
        "Test 3"
      ]
    },
    {
      "cell_type": "code",
      "execution_count": null,
      "metadata": {
        "colab": {
          "background_save": true
        },
        "id": "AsLRzFShSjqO",
        "outputId": "12967d71-cb59-4109-af72-74de4dd31d7b"
      },
      "outputs": [
        {
          "data": {
            "text/html": [
              "\n",
              "  <div id=\"df-f640f538-d9b3-4031-aaf2-e9cad8b9a80a\">\n",
              "    <div class=\"colab-df-container\">\n",
              "      <div>\n",
              "<style scoped>\n",
              "    .dataframe tbody tr th:only-of-type {\n",
              "        vertical-align: middle;\n",
              "    }\n",
              "\n",
              "    .dataframe tbody tr th {\n",
              "        vertical-align: top;\n",
              "    }\n",
              "\n",
              "    .dataframe thead th {\n",
              "        text-align: right;\n",
              "    }\n",
              "</style>\n",
              "<table border=\"1\" class=\"dataframe\">\n",
              "  <thead>\n",
              "    <tr style=\"text-align: right;\">\n",
              "      <th></th>\n",
              "      <th>unit_id</th>\n",
              "      <th>title</th>\n",
              "      <th>text</th>\n",
              "      <th>source</th>\n",
              "      <th>date</th>\n",
              "      <th>location</th>\n",
              "      <th>label</th>\n",
              "      <th>label_rf</th>\n",
              "      <th>label_lr</th>\n",
              "    </tr>\n",
              "  </thead>\n",
              "  <tbody>\n",
              "    <tr>\n",
              "      <th>0</th>\n",
              "      <td>1962495698</td>\n",
              "      <td>Twin Bomb Attacks Kill 50 Injure Dozens in Syr...</td>\n",
              "      <td>Sun Feb 21 2016 Twin Bomb Attacks Kill 50 Inju...</td>\n",
              "      <td>alalam</td>\n",
              "      <td>2/16/2016</td>\n",
              "      <td>homs</td>\n",
              "      <td>0</td>\n",
              "      <td>0</td>\n",
              "      <td>0</td>\n",
              "    </tr>\n",
              "    <tr>\n",
              "      <th>1</th>\n",
              "      <td>1926479096</td>\n",
              "      <td>18 Civilians Killed in Barrel Bomb Attack on R...</td>\n",
              "      <td>Wednesday 22 July 2015 22:33 18 Civilians Kill...</td>\n",
              "      <td>etilaf</td>\n",
              "      <td>7/22/2015</td>\n",
              "      <td>aleppo</td>\n",
              "      <td>1</td>\n",
              "      <td>0</td>\n",
              "      <td>0</td>\n",
              "    </tr>\n",
              "    <tr>\n",
              "      <th>2</th>\n",
              "      <td>1965495387</td>\n",
              "      <td>At Least 27 Children Killed in Syrian Idlib At...</td>\n",
              "      <td>06.04.2017 The attack in Syrian Idlib province...</td>\n",
              "      <td>sputnik</td>\n",
              "      <td>4/6/2017</td>\n",
              "      <td>idlib</td>\n",
              "      <td>0</td>\n",
              "      <td>0</td>\n",
              "      <td>1</td>\n",
              "    </tr>\n",
              "    <tr>\n",
              "      <th>3</th>\n",
              "      <td>1965495374</td>\n",
              "      <td>Center of Damascus Shelled 2 Civilians Killed ...</td>\n",
              "      <td>16.04.2017Get short URL 0 612 A woman and chil...</td>\n",
              "      <td>sputnik</td>\n",
              "      <td>4/16/2017</td>\n",
              "      <td>damascus</td>\n",
              "      <td>0</td>\n",
              "      <td>0</td>\n",
              "      <td>1</td>\n",
              "    </tr>\n",
              "    <tr>\n",
              "      <th>4</th>\n",
              "      <td>1926479120</td>\n",
              "      <td>Assad Regime Escalates Attacks on Besieged Alw...</td>\n",
              "      <td>Monday 07 November 2016 19:02 Assad Regime Esc...</td>\n",
              "      <td>etilaf</td>\n",
              "      <td>11/7/2016</td>\n",
              "      <td>homs</td>\n",
              "      <td>0</td>\n",
              "      <td>0</td>\n",
              "      <td>0</td>\n",
              "    </tr>\n",
              "    <tr>\n",
              "      <th>5</th>\n",
              "      <td>1924058153</td>\n",
              "      <td>Airstrikes by Assad regime warplanes kill 4 in...</td>\n",
              "      <td>Published April 29 2017 At least four people w...</td>\n",
              "      <td>dailysabah</td>\n",
              "      <td>4/16/2017</td>\n",
              "      <td>idlib</td>\n",
              "      <td>0</td>\n",
              "      <td>0</td>\n",
              "      <td>0</td>\n",
              "    </tr>\n",
              "    <tr>\n",
              "      <th>6</th>\n",
              "      <td>1962495700</td>\n",
              "      <td>Syrian Army Kills over 100 ISIS Terrorists in ...</td>\n",
              "      <td>Sun Feb 14 2016 Syrian Army Kills over 100 ISI...</td>\n",
              "      <td>alalam</td>\n",
              "      <td>2/14/2016</td>\n",
              "      <td>deir ezzor</td>\n",
              "      <td>0</td>\n",
              "      <td>0</td>\n",
              "      <td>1</td>\n",
              "    </tr>\n",
              "    <tr>\n",
              "      <th>7</th>\n",
              "      <td>1962495666</td>\n",
              "      <td>Daesh Terrorist Group Execute 70 Members in Raqqa</td>\n",
              "      <td>Mon Jul 11 2016 Daesh Terrorist Group Execute ...</td>\n",
              "      <td>alalam</td>\n",
              "      <td>7/11/2016</td>\n",
              "      <td>raqqa</td>\n",
              "      <td>0</td>\n",
              "      <td>0</td>\n",
              "      <td>0</td>\n",
              "    </tr>\n",
              "    <tr>\n",
              "      <th>8</th>\n",
              "      <td>1924058151</td>\n",
              "      <td>Assad regime targets civilians in Homs airstrikes</td>\n",
              "      <td>Published April 24 2017 Assad regime forces ha...</td>\n",
              "      <td>dailysabah</td>\n",
              "      <td>4/17/2017</td>\n",
              "      <td>homs</td>\n",
              "      <td>0</td>\n",
              "      <td>0</td>\n",
              "      <td>0</td>\n",
              "    </tr>\n",
              "    <tr>\n",
              "      <th>9</th>\n",
              "      <td>1965511159</td>\n",
              "      <td>Syria Civilian Killed Others Injured in Mortar...</td>\n",
              "      <td>27-07-2015 Syria Civilian Killed Others Injure...</td>\n",
              "      <td>manar</td>\n",
              "      <td>7/27/2015</td>\n",
              "      <td>damascus</td>\n",
              "      <td>1</td>\n",
              "      <td>0</td>\n",
              "      <td>0</td>\n",
              "    </tr>\n",
              "  </tbody>\n",
              "</table>\n",
              "</div>\n",
              "      <button class=\"colab-df-convert\" onclick=\"convertToInteractive('df-f640f538-d9b3-4031-aaf2-e9cad8b9a80a')\"\n",
              "              title=\"Convert this dataframe to an interactive table.\"\n",
              "              style=\"display:none;\">\n",
              "        \n",
              "  <svg xmlns=\"http://www.w3.org/2000/svg\" height=\"24px\"viewBox=\"0 0 24 24\"\n",
              "       width=\"24px\">\n",
              "    <path d=\"M0 0h24v24H0V0z\" fill=\"none\"/>\n",
              "    <path d=\"M18.56 5.44l.94 2.06.94-2.06 2.06-.94-2.06-.94-.94-2.06-.94 2.06-2.06.94zm-11 1L8.5 8.5l.94-2.06 2.06-.94-2.06-.94L8.5 2.5l-.94 2.06-2.06.94zm10 10l.94 2.06.94-2.06 2.06-.94-2.06-.94-.94-2.06-.94 2.06-2.06.94z\"/><path d=\"M17.41 7.96l-1.37-1.37c-.4-.4-.92-.59-1.43-.59-.52 0-1.04.2-1.43.59L10.3 9.45l-7.72 7.72c-.78.78-.78 2.05 0 2.83L4 21.41c.39.39.9.59 1.41.59.51 0 1.02-.2 1.41-.59l7.78-7.78 2.81-2.81c.8-.78.8-2.07 0-2.86zM5.41 20L4 18.59l7.72-7.72 1.47 1.35L5.41 20z\"/>\n",
              "  </svg>\n",
              "      </button>\n",
              "      \n",
              "  <style>\n",
              "    .colab-df-container {\n",
              "      display:flex;\n",
              "      flex-wrap:wrap;\n",
              "      gap: 12px;\n",
              "    }\n",
              "\n",
              "    .colab-df-convert {\n",
              "      background-color: #E8F0FE;\n",
              "      border: none;\n",
              "      border-radius: 50%;\n",
              "      cursor: pointer;\n",
              "      display: none;\n",
              "      fill: #1967D2;\n",
              "      height: 32px;\n",
              "      padding: 0 0 0 0;\n",
              "      width: 32px;\n",
              "    }\n",
              "\n",
              "    .colab-df-convert:hover {\n",
              "      background-color: #E2EBFA;\n",
              "      box-shadow: 0px 1px 2px rgba(60, 64, 67, 0.3), 0px 1px 3px 1px rgba(60, 64, 67, 0.15);\n",
              "      fill: #174EA6;\n",
              "    }\n",
              "\n",
              "    [theme=dark] .colab-df-convert {\n",
              "      background-color: #3B4455;\n",
              "      fill: #D2E3FC;\n",
              "    }\n",
              "\n",
              "    [theme=dark] .colab-df-convert:hover {\n",
              "      background-color: #434B5C;\n",
              "      box-shadow: 0px 1px 3px 1px rgba(0, 0, 0, 0.15);\n",
              "      filter: drop-shadow(0px 1px 2px rgba(0, 0, 0, 0.3));\n",
              "      fill: #FFFFFF;\n",
              "    }\n",
              "  </style>\n",
              "\n",
              "      <script>\n",
              "        const buttonEl =\n",
              "          document.querySelector('#df-f640f538-d9b3-4031-aaf2-e9cad8b9a80a button.colab-df-convert');\n",
              "        buttonEl.style.display =\n",
              "          google.colab.kernel.accessAllowed ? 'block' : 'none';\n",
              "\n",
              "        async function convertToInteractive(key) {\n",
              "          const element = document.querySelector('#df-f640f538-d9b3-4031-aaf2-e9cad8b9a80a');\n",
              "          const dataTable =\n",
              "            await google.colab.kernel.invokeFunction('convertToInteractive',\n",
              "                                                     [key], {});\n",
              "          if (!dataTable) return;\n",
              "\n",
              "          const docLinkHtml = 'Like what you see? Visit the ' +\n",
              "            '<a target=\"_blank\" href=https://colab.research.google.com/notebooks/data_table.ipynb>data table notebook</a>'\n",
              "            + ' to learn more about interactive tables.';\n",
              "          element.innerHTML = '';\n",
              "          dataTable['output_type'] = 'display_data';\n",
              "          await google.colab.output.renderOutput(dataTable, element);\n",
              "          const docLink = document.createElement('div');\n",
              "          docLink.innerHTML = docLinkHtml;\n",
              "          element.appendChild(docLink);\n",
              "        }\n",
              "      </script>\n",
              "    </div>\n",
              "  </div>\n",
              "  "
            ],
            "text/plain": [
              "      unit_id                                              title  \\\n",
              "0  1962495698  Twin Bomb Attacks Kill 50 Injure Dozens in Syr...   \n",
              "1  1926479096  18 Civilians Killed in Barrel Bomb Attack on R...   \n",
              "2  1965495387  At Least 27 Children Killed in Syrian Idlib At...   \n",
              "3  1965495374  Center of Damascus Shelled 2 Civilians Killed ...   \n",
              "4  1926479120  Assad Regime Escalates Attacks on Besieged Alw...   \n",
              "5  1924058153  Airstrikes by Assad regime warplanes kill 4 in...   \n",
              "6  1962495700  Syrian Army Kills over 100 ISIS Terrorists in ...   \n",
              "7  1962495666  Daesh Terrorist Group Execute 70 Members in Raqqa   \n",
              "8  1924058151  Assad regime targets civilians in Homs airstrikes   \n",
              "9  1965511159  Syria Civilian Killed Others Injured in Mortar...   \n",
              "\n",
              "                                                text      source       date  \\\n",
              "0  Sun Feb 21 2016 Twin Bomb Attacks Kill 50 Inju...      alalam  2/16/2016   \n",
              "1  Wednesday 22 July 2015 22:33 18 Civilians Kill...      etilaf  7/22/2015   \n",
              "2  06.04.2017 The attack in Syrian Idlib province...     sputnik   4/6/2017   \n",
              "3  16.04.2017Get short URL 0 612 A woman and chil...     sputnik  4/16/2017   \n",
              "4  Monday 07 November 2016 19:02 Assad Regime Esc...      etilaf  11/7/2016   \n",
              "5  Published April 29 2017 At least four people w...  dailysabah  4/16/2017   \n",
              "6  Sun Feb 14 2016 Syrian Army Kills over 100 ISI...      alalam  2/14/2016   \n",
              "7  Mon Jul 11 2016 Daesh Terrorist Group Execute ...      alalam  7/11/2016   \n",
              "8  Published April 24 2017 Assad regime forces ha...  dailysabah  4/17/2017   \n",
              "9  27-07-2015 Syria Civilian Killed Others Injure...       manar  7/27/2015   \n",
              "\n",
              "     location  label  label_rf  label_lr  \n",
              "0        homs      0         0         0  \n",
              "1      aleppo      1         0         0  \n",
              "2       idlib      0         0         1  \n",
              "3    damascus      0         0         1  \n",
              "4        homs      0         0         0  \n",
              "5       idlib      0         0         0  \n",
              "6  deir ezzor      0         0         1  \n",
              "7       raqqa      0         0         0  \n",
              "8        homs      0         0         0  \n",
              "9    damascus      1         0         0  "
            ]
          },
          "execution_count": 58,
          "metadata": {},
          "output_type": "execute_result"
        }
      ],
      "source": [
        "\n",
        "test3 = test3.dropna().reset_index(drop=True)\n",
        "test3.drop('labels', axis=1, inplace=True)\n",
        "X3 = test3.text.values\n",
        "X3_tfidf = tfidf_v.transform(X3).toarray()\n",
        "test3['label_rf'] = rf_clf.predict(X3_tfidf)      # RandomForest model\n",
        "test3['label_lr'] = lr.predict(X3_tfidf)          # Logistic Regression model\n",
        "test3.head(10)"
      ]
    },
    {
      "cell_type": "code",
      "execution_count": null,
      "metadata": {
        "colab": {
          "background_save": true
        },
        "id": "6dALonH0Sj3S",
        "outputId": "c6bac77b-a39d-4ecd-ad6d-d8f52fde0ac9"
      },
      "outputs": [
        {
          "data": {
            "text/plain": [
              "0.5217391304347826"
            ]
          },
          "execution_count": 59,
          "metadata": {},
          "output_type": "execute_result"
        }
      ],
      "source": [
        "accuracy_score(test3.label,test3.label_rf)      # RandomForest model"
      ]
    },
    {
      "cell_type": "code",
      "execution_count": null,
      "metadata": {
        "colab": {
          "background_save": true
        },
        "id": "tYl1EMuqTDEn",
        "outputId": "4f1300d8-0ded-4aba-9701-6c0485e21eb4"
      },
      "outputs": [
        {
          "name": "stdout",
          "output_type": "stream",
          "text": [
            "              precision    recall  f1-score   support\n",
            "\n",
            "           0       0.53      0.94      0.68        85\n",
            "           1       0.44      0.05      0.09        76\n",
            "\n",
            "    accuracy                           0.52       161\n",
            "   macro avg       0.49      0.50      0.38       161\n",
            "weighted avg       0.49      0.52      0.40       161\n",
            "\n"
          ]
        }
      ],
      "source": [
        "print(classification_report(test3.label,test3.label_rf))      # RandomForest model\n",
        "     "
      ]
    },
    {
      "cell_type": "code",
      "execution_count": null,
      "metadata": {
        "colab": {
          "background_save": true
        },
        "id": "9Axdy49_TDH3",
        "outputId": "31d5f156-fdc6-4e0b-a538-3f19610fdda6"
      },
      "outputs": [
        {
          "name": "stdout",
          "output_type": "stream",
          "text": [
            "Confusion matrix, without normalization\n"
          ]
        },
        {
          "data": {
            "image/png": "[encoded data removed]",
            "text/plain": [
              "<Figure size 432x288 with 2 Axes>"
            ]
          },
          "metadata": {},
          "output_type": "display_data"
        }
      ],
      "source": [
        "\n",
        "cm3_rf = confusion_matrix(test3.label,test3.label_rf)       # RandomForest model\n",
        "plot_confusion_matrix(cm3_rf,classes=['True','Fake'])"
      ]
    },
    {
      "cell_type": "code",
      "execution_count": null,
      "metadata": {
        "colab": {
          "background_save": true
        },
        "id": "92kU5NifTDKn",
        "outputId": "f2fea269-d173-43a6-c7f5-3ccee82ed33f"
      },
      "outputs": [
        {
          "data": {
            "text/plain": [
              "0.515527950310559"
            ]
          },
          "execution_count": 62,
          "metadata": {},
          "output_type": "execute_result"
        }
      ],
      "source": [
        "accuracy_score(test3.label,test3.label_lr)      # Logistic Regression model\n"
      ]
    },
    {
      "cell_type": "code",
      "execution_count": null,
      "metadata": {
        "colab": {
          "background_save": true
        },
        "id": "7n0QtvyPTDNy",
        "outputId": "a8db9e3f-c8cc-4386-f5f5-5de70a7d2a4d"
      },
      "outputs": [
        {
          "name": "stdout",
          "output_type": "stream",
          "text": [
            "              precision    recall  f1-score   support\n",
            "\n",
            "           0       0.53      0.64      0.58        85\n",
            "           1       0.48      0.38      0.43        76\n",
            "\n",
            "    accuracy                           0.52       161\n",
            "   macro avg       0.51      0.51      0.50       161\n",
            "weighted avg       0.51      0.52      0.51       161\n",
            "\n"
          ]
        }
      ],
      "source": [
        "print(classification_report(test3.label,test3.label_lr))      # Logistic Regression model\n",
        "  "
      ]
    },
    {
      "cell_type": "code",
      "execution_count": null,
      "metadata": {
        "colab": {
          "background_save": true
        },
        "id": "Meb6LiCTTDRA",
        "outputId": "69dff654-de96-4c67-b376-d4d215e2b1df"
      },
      "outputs": [
        {
          "name": "stdout",
          "output_type": "stream",
          "text": [
            "Confusion matrix, without normalization\n"
          ]
        },
        {
          "data": {
            "image/png": "[encoded data removed]",
            "text/plain": [
              "<Figure size 432x288 with 2 Axes>"
            ]
          },
          "metadata": {},
          "output_type": "display_data"
        }
      ],
      "source": [
        "cm3_lr = confusion_matrix(test3.label,test3.label_lr)       # Logistic Regression model\n",
        "plot_confusion_matrix(cm3_lr,classes=['True','Fake'])"
      ]
    },
    {
      "cell_type": "markdown",
      "metadata": {
        "id": "Tjf3qYwxTaQt"
      },
      "source": [
        "Test 4"
      ]
    },
    {
      "cell_type": "code",
      "execution_count": null,
      "metadata": {
        "colab": {
          "background_save": true
        },
        "id": "1XbkoBrCTDUd",
        "outputId": "f900a039-e2f4-4bd8-e122-f2f4e28fb416"
      },
      "outputs": [
        {
          "data": {
            "text/html": [
              "\n",
              "  <div id=\"df-6ef609ac-2c81-4f38-9a53-016fe7748698\">\n",
              "    <div class=\"colab-df-container\">\n",
              "      <div>\n",
              "<style scoped>\n",
              "    .dataframe tbody tr th:only-of-type {\n",
              "        vertical-align: middle;\n",
              "    }\n",
              "\n",
              "    .dataframe tbody tr th {\n",
              "        vertical-align: top;\n",
              "    }\n",
              "\n",
              "    .dataframe thead th {\n",
              "        text-align: right;\n",
              "    }\n",
              "</style>\n",
              "<table border=\"1\" class=\"dataframe\">\n",
              "  <thead>\n",
              "    <tr style=\"text-align: right;\">\n",
              "      <th></th>\n",
              "      <th>title</th>\n",
              "      <th>text</th>\n",
              "      <th>subject</th>\n",
              "      <th>date</th>\n",
              "      <th>label</th>\n",
              "      <th>label_rf</th>\n",
              "      <th>label_lr</th>\n",
              "    </tr>\n",
              "  </thead>\n",
              "  <tbody>\n",
              "    <tr>\n",
              "      <th>0</th>\n",
              "      <td>A MUST WATCH! “It’s Time To Show America Is Bi...</td>\n",
              "      <td>#PresidentElectTrumpABSOLUTELY MUST WATCHTod...</td>\n",
              "      <td>Government News</td>\n",
              "      <td>Dec 21, 2016</td>\n",
              "      <td>1</td>\n",
              "      <td>1</td>\n",
              "      <td>1</td>\n",
              "    </tr>\n",
              "    <tr>\n",
              "      <th>1</th>\n",
              "      <td>Republicans may generate less heat at Miami de...</td>\n",
              "      <td>WASHINGTON (Reuters) - Republican presidential...</td>\n",
              "      <td>politicsNews</td>\n",
              "      <td>March 10, 2016</td>\n",
              "      <td>0</td>\n",
              "      <td>0</td>\n",
              "      <td>0</td>\n",
              "    </tr>\n",
              "    <tr>\n",
              "      <th>2</th>\n",
              "      <td>BRILLIANT! TUCKER CARLSON and AYAAN HIRSI ALI ...</td>\n",
              "      <td></td>\n",
              "      <td>left-news</td>\n",
              "      <td>Mar 22, 2017</td>\n",
              "      <td>1</td>\n",
              "      <td>1</td>\n",
              "      <td>1</td>\n",
              "    </tr>\n",
              "    <tr>\n",
              "      <th>3</th>\n",
              "      <td>Trump warns 'rogue regime' North Korea of grav...</td>\n",
              "      <td>BEIJING (Reuters) - U.S. President Donald Trum...</td>\n",
              "      <td>politicsNews</td>\n",
              "      <td>November 8, 2017</td>\n",
              "      <td>0</td>\n",
              "      <td>0</td>\n",
              "      <td>0</td>\n",
              "    </tr>\n",
              "    <tr>\n",
              "      <th>4</th>\n",
              "      <td>Russia rebukes Trump over Iran, North Korea, a...</td>\n",
              "      <td>MOSCOW (Reuters) - Russia is  extremely concer...</td>\n",
              "      <td>worldnews</td>\n",
              "      <td>September 20, 2017</td>\n",
              "      <td>0</td>\n",
              "      <td>0</td>\n",
              "      <td>0</td>\n",
              "    </tr>\n",
              "    <tr>\n",
              "      <th>5</th>\n",
              "      <td>Puerto Rico debt fix unlikely to resemble Detr...</td>\n",
              "      <td>NEW YORK (Reuters) - The federal appointees ta...</td>\n",
              "      <td>politicsNews</td>\n",
              "      <td>September 5, 2016</td>\n",
              "      <td>0</td>\n",
              "      <td>0</td>\n",
              "      <td>0</td>\n",
              "    </tr>\n",
              "    <tr>\n",
              "      <th>6</th>\n",
              "      <td>Britain will not speculate on possible U.S. wi...</td>\n",
              "      <td>LONDON (Reuters) - Britain will not speculate ...</td>\n",
              "      <td>worldnews</td>\n",
              "      <td>October 12, 2017</td>\n",
              "      <td>0</td>\n",
              "      <td>0</td>\n",
              "      <td>0</td>\n",
              "    </tr>\n",
              "    <tr>\n",
              "      <th>7</th>\n",
              "      <td>WOW! KY Dem House Speaker Makes Insane Speech ...</td>\n",
              "      <td>State Reps Forced To Stand Awkwardly In Backgr...</td>\n",
              "      <td>politics</td>\n",
              "      <td>Nov 5, 2015</td>\n",
              "      <td>1</td>\n",
              "      <td>1</td>\n",
              "      <td>1</td>\n",
              "    </tr>\n",
              "    <tr>\n",
              "      <th>8</th>\n",
              "      <td>CIA GATEKEEPER? CNN’s Chris Cuomo says America...</td>\n",
              "      <td>21st Century Wire says CNN s Chris Cuomo (ima...</td>\n",
              "      <td>Middle-east</td>\n",
              "      <td>October 20, 2016</td>\n",
              "      <td>1</td>\n",
              "      <td>1</td>\n",
              "      <td>1</td>\n",
              "    </tr>\n",
              "    <tr>\n",
              "      <th>9</th>\n",
              "      <td>Trump Tells His Supporters Poor People Are To...</td>\n",
              "      <td>Alleged President Donald Trump has been on the...</td>\n",
              "      <td>News</td>\n",
              "      <td>June 22, 2017</td>\n",
              "      <td>1</td>\n",
              "      <td>1</td>\n",
              "      <td>1</td>\n",
              "    </tr>\n",
              "  </tbody>\n",
              "</table>\n",
              "</div>\n",
              "      <button class=\"colab-df-convert\" onclick=\"convertToInteractive('df-6ef609ac-2c81-4f38-9a53-016fe7748698')\"\n",
              "              title=\"Convert this dataframe to an interactive table.\"\n",
              "              style=\"display:none;\">\n",
              "        \n",
              "  <svg xmlns=\"http://www.w3.org/2000/svg\" height=\"24px\"viewBox=\"0 0 24 24\"\n",
              "       width=\"24px\">\n",
              "    <path d=\"M0 0h24v24H0V0z\" fill=\"none\"/>\n",
              "    <path d=\"M18.56 5.44l.94 2.06.94-2.06 2.06-.94-2.06-.94-.94-2.06-.94 2.06-2.06.94zm-11 1L8.5 8.5l.94-2.06 2.06-.94-2.06-.94L8.5 2.5l-.94 2.06-2.06.94zm10 10l.94 2.06.94-2.06 2.06-.94-2.06-.94-.94-2.06-.94 2.06-2.06.94z\"/><path d=\"M17.41 7.96l-1.37-1.37c-.4-.4-.92-.59-1.43-.59-.52 0-1.04.2-1.43.59L10.3 9.45l-7.72 7.72c-.78.78-.78 2.05 0 2.83L4 21.41c.39.39.9.59 1.41.59.51 0 1.02-.2 1.41-.59l7.78-7.78 2.81-2.81c.8-.78.8-2.07 0-2.86zM5.41 20L4 18.59l7.72-7.72 1.47 1.35L5.41 20z\"/>\n",
              "  </svg>\n",
              "      </button>\n",
              "      \n",
              "  <style>\n",
              "    .colab-df-container {\n",
              "      display:flex;\n",
              "      flex-wrap:wrap;\n",
              "      gap: 12px;\n",
              "    }\n",
              "\n",
              "    .colab-df-convert {\n",
              "      background-color: #E8F0FE;\n",
              "      border: none;\n",
              "      border-radius: 50%;\n",
              "      cursor: pointer;\n",
              "      display: none;\n",
              "      fill: #1967D2;\n",
              "      height: 32px;\n",
              "      padding: 0 0 0 0;\n",
              "      width: 32px;\n",
              "    }\n",
              "\n",
              "    .colab-df-convert:hover {\n",
              "      background-color: #E2EBFA;\n",
              "      box-shadow: 0px 1px 2px rgba(60, 64, 67, 0.3), 0px 1px 3px 1px rgba(60, 64, 67, 0.15);\n",
              "      fill: #174EA6;\n",
              "    }\n",
              "\n",
              "    [theme=dark] .colab-df-convert {\n",
              "      background-color: #3B4455;\n",
              "      fill: #D2E3FC;\n",
              "    }\n",
              "\n",
              "    [theme=dark] .colab-df-convert:hover {\n",
              "      background-color: #434B5C;\n",
              "      box-shadow: 0px 1px 3px 1px rgba(0, 0, 0, 0.15);\n",
              "      filter: drop-shadow(0px 1px 2px rgba(0, 0, 0, 0.3));\n",
              "      fill: #FFFFFF;\n",
              "    }\n",
              "  </style>\n",
              "\n",
              "      <script>\n",
              "        const buttonEl =\n",
              "          document.querySelector('#df-6ef609ac-2c81-4f38-9a53-016fe7748698 button.colab-df-convert');\n",
              "        buttonEl.style.display =\n",
              "          google.colab.kernel.accessAllowed ? 'block' : 'none';\n",
              "\n",
              "        async function convertToInteractive(key) {\n",
              "          const element = document.querySelector('#df-6ef609ac-2c81-4f38-9a53-016fe7748698');\n",
              "          const dataTable =\n",
              "            await google.colab.kernel.invokeFunction('convertToInteractive',\n",
              "                                                     [key], {});\n",
              "          if (!dataTable) return;\n",
              "\n",
              "          const docLinkHtml = 'Like what you see? Visit the ' +\n",
              "            '<a target=\"_blank\" href=https://colab.research.google.com/notebooks/data_table.ipynb>data table notebook</a>'\n",
              "            + ' to learn more about interactive tables.';\n",
              "          element.innerHTML = '';\n",
              "          dataTable['output_type'] = 'display_data';\n",
              "          await google.colab.output.renderOutput(dataTable, element);\n",
              "          const docLink = document.createElement('div');\n",
              "          docLink.innerHTML = docLinkHtml;\n",
              "          element.appendChild(docLink);\n",
              "        }\n",
              "      </script>\n",
              "    </div>\n",
              "  </div>\n",
              "  "
            ],
            "text/plain": [
              "                                               title  \\\n",
              "0  A MUST WATCH! “It’s Time To Show America Is Bi...   \n",
              "1  Republicans may generate less heat at Miami de...   \n",
              "2  BRILLIANT! TUCKER CARLSON and AYAAN HIRSI ALI ...   \n",
              "3  Trump warns 'rogue regime' North Korea of grav...   \n",
              "4  Russia rebukes Trump over Iran, North Korea, a...   \n",
              "5  Puerto Rico debt fix unlikely to resemble Detr...   \n",
              "6  Britain will not speculate on possible U.S. wi...   \n",
              "7  WOW! KY Dem House Speaker Makes Insane Speech ...   \n",
              "8  CIA GATEKEEPER? CNN’s Chris Cuomo says America...   \n",
              "9   Trump Tells His Supporters Poor People Are To...   \n",
              "\n",
              "                                                text          subject  \\\n",
              "0    #PresidentElectTrumpABSOLUTELY MUST WATCHTod...  Government News   \n",
              "1  WASHINGTON (Reuters) - Republican presidential...     politicsNews   \n",
              "2                                                           left-news   \n",
              "3  BEIJING (Reuters) - U.S. President Donald Trum...     politicsNews   \n",
              "4  MOSCOW (Reuters) - Russia is  extremely concer...        worldnews   \n",
              "5  NEW YORK (Reuters) - The federal appointees ta...     politicsNews   \n",
              "6  LONDON (Reuters) - Britain will not speculate ...        worldnews   \n",
              "7  State Reps Forced To Stand Awkwardly In Backgr...         politics   \n",
              "8   21st Century Wire says CNN s Chris Cuomo (ima...      Middle-east   \n",
              "9  Alleged President Donald Trump has been on the...             News   \n",
              "\n",
              "                  date  label  label_rf  label_lr  \n",
              "0         Dec 21, 2016      1         1         1  \n",
              "1      March 10, 2016       0         0         0  \n",
              "2         Mar 22, 2017      1         1         1  \n",
              "3    November 8, 2017       0         0         0  \n",
              "4  September 20, 2017       0         0         0  \n",
              "5   September 5, 2016       0         0         0  \n",
              "6    October 12, 2017       0         0         0  \n",
              "7          Nov 5, 2015      1         1         1  \n",
              "8     October 20, 2016      1         1         1  \n",
              "9        June 22, 2017      1         1         1  "
            ]
          },
          "execution_count": 65,
          "metadata": {},
          "output_type": "execute_result"
        }
      ],
      "source": [
        "\n",
        "test4 = test4.dropna().reset_index(drop=True)\n",
        "X4 = test4.text.values\n",
        "X4_tfidf = tfidf_v.transform(X4).toarray()\n",
        "test4['label_rf'] = rf_clf.predict(X4_tfidf)      # RandomForest model\n",
        "test4['label_lr'] = lr.predict(X4_tfidf)          # Logistic Regression model\n",
        "test4.head(10)"
      ]
    },
    {
      "cell_type": "code",
      "execution_count": null,
      "metadata": {
        "colab": {
          "background_save": true
        },
        "id": "y7xVCGkBTgFB",
        "outputId": "a51bd796-b34d-46f7-d8f8-ad694b2eb46e"
      },
      "outputs": [
        {
          "data": {
            "text/plain": [
              "0.8830734966592427"
            ]
          },
          "execution_count": 66,
          "metadata": {},
          "output_type": "execute_result"
        }
      ],
      "source": [
        "accuracy_score(test4.label,test4.label_rf)      # RandomForest model\n",
        "     "
      ]
    },
    {
      "cell_type": "code",
      "execution_count": null,
      "metadata": {
        "colab": {
          "background_save": true
        },
        "id": "XLeov_VWTgJJ",
        "outputId": "3d2b03c9-a4d2-4912-89e0-212d100a5627"
      },
      "outputs": [
        {
          "name": "stdout",
          "output_type": "stream",
          "text": [
            "              precision    recall  f1-score   support\n",
            "\n",
            "           0       0.80      1.00      0.89      4284\n",
            "           1       1.00      0.78      0.87      4696\n",
            "\n",
            "    accuracy                           0.88      8980\n",
            "   macro avg       0.90      0.89      0.88      8980\n",
            "weighted avg       0.91      0.88      0.88      8980\n",
            "\n"
          ]
        }
      ],
      "source": [
        "print(classification_report(test4.label,test4.label_rf))      # RandomForest model\n",
        "     "
      ]
    },
    {
      "cell_type": "code",
      "execution_count": null,
      "metadata": {
        "colab": {
          "background_save": true
        },
        "id": "69iRwKZITgN5",
        "outputId": "1f68463c-d5c9-4541-c0db-d9a4a38bf550"
      },
      "outputs": [
        {
          "name": "stdout",
          "output_type": "stream",
          "text": [
            "Confusion matrix, without normalization\n"
          ]
        },
        {
          "data": {
            "image/png": "[encoded data removed]",
            "text/plain": [
              "<Figure size 432x288 with 2 Axes>"
            ]
          },
          "metadata": {},
          "output_type": "display_data"
        }
      ],
      "source": [
        "cm4_rf = confusion_matrix(test4.label,test4.label_rf)       # RandomForest model\n",
        "plot_confusion_matrix(cm4_rf,classes=['True','Fake'])"
      ]
    },
    {
      "cell_type": "code",
      "execution_count": null,
      "metadata": {
        "colab": {
          "background_save": true
        },
        "id": "ssMxxmp0TgRE",
        "outputId": "1b0ef79a-d77c-49a8-805e-8487e1559ed2"
      },
      "outputs": [
        {
          "data": {
            "text/plain": [
              "0.9699331848552338"
            ]
          },
          "execution_count": 69,
          "metadata": {},
          "output_type": "execute_result"
        }
      ],
      "source": [
        "accuracy_score(test4.label,test4.label_lr)      # Logistic Regression model"
      ]
    },
    {
      "cell_type": "code",
      "execution_count": null,
      "metadata": {
        "colab": {
          "background_save": true
        },
        "id": "TABI9-x1TgUw",
        "outputId": "236bbddd-e256-4897-b0f1-1eef8d500a6e"
      },
      "outputs": [
        {
          "name": "stdout",
          "output_type": "stream",
          "text": [
            "              precision    recall  f1-score   support\n",
            "\n",
            "           0       0.94      1.00      0.97      4284\n",
            "           1       1.00      0.95      0.97      4696\n",
            "\n",
            "    accuracy                           0.97      8980\n",
            "   macro avg       0.97      0.97      0.97      8980\n",
            "weighted avg       0.97      0.97      0.97      8980\n",
            "\n"
          ]
        }
      ],
      "source": [
        "print(classification_report(test4.label,test4.label_lr))      # Logistic Regression model\n",
        "     "
      ]
    },
    {
      "cell_type": "code",
      "execution_count": null,
      "metadata": {
        "colab": {
          "background_save": true
        },
        "id": "CpqiX0A4TgYg",
        "outputId": "198a0432-7c5f-4fcd-d608-2e07ac000ff4"
      },
      "outputs": [
        {
          "name": "stdout",
          "output_type": "stream",
          "text": [
            "Confusion matrix, without normalization\n"
          ]
        },
        {
          "data": {
            "image/png": "[encoded data removed]",
            "text/plain": [
              "<Figure size 432x288 with 2 Axes>"
            ]
          },
          "metadata": {},
          "output_type": "display_data"
        }
      ],
      "source": [
        "cm4_lr = confusion_matrix(test4.label,test4.label_lr)       # Logistic Regression model\n",
        "plot_confusion_matrix(cm4_lr,classes=['True','Fake'])"
      ]
    },
    {
      "cell_type": "markdown",
      "metadata": {
        "id": "n4caaAk5T9eV"
      },
      "source": [
        "Conclusion\n",
        "Logistic Regression model is performing very well as compared to Random Forest model .\n",
        "Whether it is accuracy, recall, precision or the f1-score, Logistic Regression model yields the best results.\n",
        "Use Cases\n",
        "The model can be deployed on fact checking websites and apps.\n",
        "The model can also be implemented in chat-apps in the form of Bot accounts."
      ]
    },
    {
      "cell_type": "code",
      "execution_count": null,
      "metadata": {
        "colab": {
          "background_save": true
        },
        "id": "2lI17vFyNJmF"
      },
      "outputs": [],
      "source": [
        "import pickle"
      ]
    },
    {
      "cell_type": "code",
      "execution_count": 77,
      "metadata": {
        "id": "VMaYvVDF_3tF",
        "colab": {
          "base_uri": "https://localhost:8080/"
        },
        "outputId": "ec101b8d-4d24-4819-bf8b-b08765cf00c3"
      },
      "outputs": [
        {
          "output_type": "execute_result",
          "data": {
            "text/plain": [
              "['model.pkl']"
            ]
          },
          "metadata": {},
          "execution_count": 77
        }
      ],
      "source": [
        "import joblib\n",
        "joblib.dump(lr, 'model.pkl')"
      ]
    },
    {
      "cell_type": "markdown",
      "metadata": {
        "id": "eslzl7v_V2tq"
      },
      "source": []
    }
  ],
  "metadata": {
    "colab": {
      "provenance": []
    },
    "gpuClass": "standard",
    "kernelspec": {
      "display_name": "Python 3",
      "name": "python3"
    },
    "language_info": {
      "name": "python"
    }
  },
  "nbformat": 4,
  "nbformat_minor": 0
}